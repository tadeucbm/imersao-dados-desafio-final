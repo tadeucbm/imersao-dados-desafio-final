{
 "cells": [
  {
   "cell_type": "markdown",
   "id": "01de8f3d",
   "metadata": {},
   "source": [
    "# 0.0. IMPORTS"
   ]
  },
  {
   "cell_type": "code",
   "execution_count": 1,
   "id": "1ea771a8",
   "metadata": {},
   "outputs": [],
   "source": [
    "# Manipulação\n",
    "import re\n",
    "import statistics\n",
    "import pandas as pd\n",
    "import numpy as np\n",
    "from scipy  import stats as ss\n",
    "import random\n",
    "\n",
    "# Visualização\n",
    "import matplotlib.pyplot as plt\n",
    "import matplotlib.gridspec as gs\n",
    "import seaborn as sns\n",
    "from IPython.display import Image\n",
    "\n",
    "# Machine Learning\n",
    "from sklearn.model_selection import train_test_split\n",
    "from boruta import BorutaPy\n",
    "from sklearn.linear_model import LogisticRegression\n",
    "from sklearn.model_selection import cross_validate\n",
    "from sklearn.model_selection import StratifiedKFold\n",
    "from sklearn.neighbors import KNeighborsClassifier\n",
    "from sklearn.model_selection import RandomizedSearchCV\n",
    "from lightgbm import LGBMClassifier\n",
    "from sklearn import naive_bayes as nb\n",
    "from sklearn import ensemble as en\n",
    "from sklearn import model_selection as ms\n",
    "import imblearn.metrics as ime\n",
    "from sklearn.metrics import make_scorer\n",
    "from sklearn.metrics import recall_score\n",
    "\n",
    "import sklearn.metrics as met\n",
    "import catboost as cb\n",
    "import xgboost as xgb"
   ]
  },
  {
   "cell_type": "markdown",
   "id": "32a47b1c",
   "metadata": {},
   "source": [
    "## 0.1. Funcoes Auxiliares"
   ]
  },
  {
   "cell_type": "code",
   "execution_count": 2,
   "id": "c8d536d6",
   "metadata": {},
   "outputs": [],
   "source": [
    "# Configuração do notebook\n",
    "def jupyter_settings():\n",
    "    %matplotlib inline\n",
    "    \n",
    "    plt.style.use('bmh')\n",
    "    plt.rcParams['figure.figsize'] = [25, 12]\n",
    "    plt.rcParams['font.size'] = 24\n",
    "    \n",
    "    sns.set()\n",
    "\n",
    "# Contador de colunas\n",
    "def cont_columns(first_value, df):\n",
    "    cont = 0\n",
    "    for value in df.columns:\n",
    "        if value.split('-')[0] == first_value:\n",
    "            cont += 1\n",
    "    print(f'Número de colunas {first_value}-#:{cont}')\n",
    "\n",
    "# Cramer_v: cálculo de correlação entre variáveis categóricas\n",
    "def cramer_v(x, y):\n",
    "    cm = pd.crosstab(x, y).values\n",
    "    n = cm.sum()\n",
    "    r, k = cm.shape\n",
    "    \n",
    "    chi2 = ss.chi2_contingency(cm)[0]\n",
    "\n",
    "    chi2corr = max(0, chi2 - (k - 1)*(r - 1)/(n - 1))\n",
    "    kcorr = k - (k - 1)**2/(n - 1)\n",
    "    rcorr = r - (r - 1)**2/(n - 1)\n",
    "    \n",
    "    return np.sqrt((chi2corr/n) / (min( kcorr-1, rcorr-1)))"
   ]
  },
  {
   "cell_type": "code",
   "execution_count": 3,
   "id": "3601dad2",
   "metadata": {},
   "outputs": [],
   "source": [
    "jupyter_settings()"
   ]
  },
  {
   "cell_type": "markdown",
   "id": "071197b5",
   "metadata": {},
   "source": [
    "## 0.2. Dados"
   ]
  },
  {
   "cell_type": "code",
   "execution_count": 4,
   "id": "6bd58eda",
   "metadata": {},
   "outputs": [],
   "source": [
    "url_exp = 'https://github.com/tadeucbm/imersao-dados-desafio-final/blob/main/Dados/dados_experimentos.zip?raw=true'\n",
    "url_result = 'https://github.com/tadeucbm/imersao-dados-desafio-final/blob/main/Dados/dados_resultados.csv?raw=true'\n",
    "\n",
    "# Import dos experimentos\n",
    "df_exp = pd.read_csv(url_exp, compression = 'zip')\n",
    "\n",
    "# Import dos resultados\n",
    "df_result = pd.read_csv(url_result)"
   ]
  },
  {
   "cell_type": "code",
   "execution_count": 5,
   "id": "07e2c4b0",
   "metadata": {},
   "outputs": [
    {
     "data": {
      "text/html": [
       "<div>\n",
       "<style scoped>\n",
       "    .dataframe tbody tr th:only-of-type {\n",
       "        vertical-align: middle;\n",
       "    }\n",
       "\n",
       "    .dataframe tbody tr th {\n",
       "        vertical-align: top;\n",
       "    }\n",
       "\n",
       "    .dataframe thead th {\n",
       "        text-align: right;\n",
       "    }\n",
       "</style>\n",
       "<table border=\"1\" class=\"dataframe\">\n",
       "  <thead>\n",
       "    <tr style=\"text-align: right;\">\n",
       "      <th></th>\n",
       "      <th>id</th>\n",
       "      <th>tratamento</th>\n",
       "      <th>tempo</th>\n",
       "      <th>dose</th>\n",
       "      <th>droga</th>\n",
       "      <th>g-0</th>\n",
       "      <th>g-1</th>\n",
       "      <th>g-2</th>\n",
       "      <th>g-3</th>\n",
       "      <th>g-4</th>\n",
       "      <th>...</th>\n",
       "      <th>c-90</th>\n",
       "      <th>c-91</th>\n",
       "      <th>c-92</th>\n",
       "      <th>c-93</th>\n",
       "      <th>c-94</th>\n",
       "      <th>c-95</th>\n",
       "      <th>c-96</th>\n",
       "      <th>c-97</th>\n",
       "      <th>c-98</th>\n",
       "      <th>c-99</th>\n",
       "    </tr>\n",
       "  </thead>\n",
       "  <tbody>\n",
       "    <tr>\n",
       "      <th>0</th>\n",
       "      <td>id_000644bb2</td>\n",
       "      <td>com_droga</td>\n",
       "      <td>24</td>\n",
       "      <td>D1</td>\n",
       "      <td>b68db1d53</td>\n",
       "      <td>1.0620</td>\n",
       "      <td>0.5577</td>\n",
       "      <td>-0.2479</td>\n",
       "      <td>-0.6208</td>\n",
       "      <td>-0.1944</td>\n",
       "      <td>...</td>\n",
       "      <td>0.2862</td>\n",
       "      <td>0.2584</td>\n",
       "      <td>0.8076</td>\n",
       "      <td>0.5523</td>\n",
       "      <td>-0.1912</td>\n",
       "      <td>0.6584</td>\n",
       "      <td>-0.3981</td>\n",
       "      <td>0.2139</td>\n",
       "      <td>0.3801</td>\n",
       "      <td>0.4176</td>\n",
       "    </tr>\n",
       "    <tr>\n",
       "      <th>1</th>\n",
       "      <td>id_000779bfc</td>\n",
       "      <td>com_droga</td>\n",
       "      <td>72</td>\n",
       "      <td>D1</td>\n",
       "      <td>df89a8e5a</td>\n",
       "      <td>0.0743</td>\n",
       "      <td>0.4087</td>\n",
       "      <td>0.2991</td>\n",
       "      <td>0.0604</td>\n",
       "      <td>1.0190</td>\n",
       "      <td>...</td>\n",
       "      <td>-0.4265</td>\n",
       "      <td>0.7543</td>\n",
       "      <td>0.4708</td>\n",
       "      <td>0.0230</td>\n",
       "      <td>0.2957</td>\n",
       "      <td>0.4899</td>\n",
       "      <td>0.1522</td>\n",
       "      <td>0.1241</td>\n",
       "      <td>0.6077</td>\n",
       "      <td>0.7371</td>\n",
       "    </tr>\n",
       "    <tr>\n",
       "      <th>2</th>\n",
       "      <td>id_000a6266a</td>\n",
       "      <td>com_droga</td>\n",
       "      <td>48</td>\n",
       "      <td>D1</td>\n",
       "      <td>18bb41b2c</td>\n",
       "      <td>0.6280</td>\n",
       "      <td>0.5817</td>\n",
       "      <td>1.5540</td>\n",
       "      <td>-0.0764</td>\n",
       "      <td>-0.0323</td>\n",
       "      <td>...</td>\n",
       "      <td>-0.7250</td>\n",
       "      <td>-0.6297</td>\n",
       "      <td>0.6103</td>\n",
       "      <td>0.0223</td>\n",
       "      <td>-1.3240</td>\n",
       "      <td>-0.3174</td>\n",
       "      <td>-0.6417</td>\n",
       "      <td>-0.2187</td>\n",
       "      <td>-1.4080</td>\n",
       "      <td>0.6931</td>\n",
       "    </tr>\n",
       "    <tr>\n",
       "      <th>3</th>\n",
       "      <td>id_0015fd391</td>\n",
       "      <td>com_droga</td>\n",
       "      <td>48</td>\n",
       "      <td>D1</td>\n",
       "      <td>8c7f86626</td>\n",
       "      <td>-0.5138</td>\n",
       "      <td>-0.2491</td>\n",
       "      <td>-0.2656</td>\n",
       "      <td>0.5288</td>\n",
       "      <td>4.0620</td>\n",
       "      <td>...</td>\n",
       "      <td>-2.0990</td>\n",
       "      <td>-0.6441</td>\n",
       "      <td>-5.6300</td>\n",
       "      <td>-1.3780</td>\n",
       "      <td>-0.8632</td>\n",
       "      <td>-1.2880</td>\n",
       "      <td>-1.6210</td>\n",
       "      <td>-0.8784</td>\n",
       "      <td>-0.3876</td>\n",
       "      <td>-0.8154</td>\n",
       "    </tr>\n",
       "    <tr>\n",
       "      <th>4</th>\n",
       "      <td>id_001626bd3</td>\n",
       "      <td>com_droga</td>\n",
       "      <td>72</td>\n",
       "      <td>D2</td>\n",
       "      <td>7cbed3131</td>\n",
       "      <td>-0.3254</td>\n",
       "      <td>-0.4009</td>\n",
       "      <td>0.9700</td>\n",
       "      <td>0.6919</td>\n",
       "      <td>1.4180</td>\n",
       "      <td>...</td>\n",
       "      <td>0.0042</td>\n",
       "      <td>0.0048</td>\n",
       "      <td>0.6670</td>\n",
       "      <td>1.0690</td>\n",
       "      <td>0.5523</td>\n",
       "      <td>-0.3031</td>\n",
       "      <td>0.1094</td>\n",
       "      <td>0.2885</td>\n",
       "      <td>-0.3786</td>\n",
       "      <td>0.7125</td>\n",
       "    </tr>\n",
       "  </tbody>\n",
       "</table>\n",
       "<p>5 rows × 877 columns</p>\n",
       "</div>"
      ],
      "text/plain": [
       "             id tratamento  tempo dose      droga     g-0     g-1     g-2  \\\n",
       "0  id_000644bb2  com_droga     24   D1  b68db1d53  1.0620  0.5577 -0.2479   \n",
       "1  id_000779bfc  com_droga     72   D1  df89a8e5a  0.0743  0.4087  0.2991   \n",
       "2  id_000a6266a  com_droga     48   D1  18bb41b2c  0.6280  0.5817  1.5540   \n",
       "3  id_0015fd391  com_droga     48   D1  8c7f86626 -0.5138 -0.2491 -0.2656   \n",
       "4  id_001626bd3  com_droga     72   D2  7cbed3131 -0.3254 -0.4009  0.9700   \n",
       "\n",
       "      g-3     g-4  ...    c-90    c-91    c-92    c-93    c-94    c-95  \\\n",
       "0 -0.6208 -0.1944  ...  0.2862  0.2584  0.8076  0.5523 -0.1912  0.6584   \n",
       "1  0.0604  1.0190  ... -0.4265  0.7543  0.4708  0.0230  0.2957  0.4899   \n",
       "2 -0.0764 -0.0323  ... -0.7250 -0.6297  0.6103  0.0223 -1.3240 -0.3174   \n",
       "3  0.5288  4.0620  ... -2.0990 -0.6441 -5.6300 -1.3780 -0.8632 -1.2880   \n",
       "4  0.6919  1.4180  ...  0.0042  0.0048  0.6670  1.0690  0.5523 -0.3031   \n",
       "\n",
       "     c-96    c-97    c-98    c-99  \n",
       "0 -0.3981  0.2139  0.3801  0.4176  \n",
       "1  0.1522  0.1241  0.6077  0.7371  \n",
       "2 -0.6417 -0.2187 -1.4080  0.6931  \n",
       "3 -1.6210 -0.8784 -0.3876 -0.8154  \n",
       "4  0.1094  0.2885 -0.3786  0.7125  \n",
       "\n",
       "[5 rows x 877 columns]"
      ]
     },
     "execution_count": 5,
     "metadata": {},
     "output_type": "execute_result"
    }
   ],
   "source": [
    "df_exp.head()"
   ]
  },
  {
   "cell_type": "code",
   "execution_count": 6,
   "id": "6e08aad3",
   "metadata": {},
   "outputs": [
    {
     "data": {
      "text/html": [
       "<div>\n",
       "<style scoped>\n",
       "    .dataframe tbody tr th:only-of-type {\n",
       "        vertical-align: middle;\n",
       "    }\n",
       "\n",
       "    .dataframe tbody tr th {\n",
       "        vertical-align: top;\n",
       "    }\n",
       "\n",
       "    .dataframe thead th {\n",
       "        text-align: right;\n",
       "    }\n",
       "</style>\n",
       "<table border=\"1\" class=\"dataframe\">\n",
       "  <thead>\n",
       "    <tr style=\"text-align: right;\">\n",
       "      <th></th>\n",
       "      <th>id</th>\n",
       "      <th>5-alpha_reductase_inhibitor</th>\n",
       "      <th>11-beta-hsd1_inhibitor</th>\n",
       "      <th>acat_inhibitor</th>\n",
       "      <th>acetylcholine_receptor_agonist</th>\n",
       "      <th>acetylcholine_receptor_antagonist</th>\n",
       "      <th>acetylcholinesterase_inhibitor</th>\n",
       "      <th>adenosine_receptor_agonist</th>\n",
       "      <th>adenosine_receptor_antagonist</th>\n",
       "      <th>adenylyl_cyclase_activator</th>\n",
       "      <th>...</th>\n",
       "      <th>tropomyosin_receptor_kinase_inhibitor</th>\n",
       "      <th>trpv_agonist</th>\n",
       "      <th>trpv_antagonist</th>\n",
       "      <th>tubulin_inhibitor</th>\n",
       "      <th>tyrosine_kinase_inhibitor</th>\n",
       "      <th>ubiquitin_specific_protease_inhibitor</th>\n",
       "      <th>vegfr_inhibitor</th>\n",
       "      <th>vitamin_b</th>\n",
       "      <th>vitamin_d_receptor_agonist</th>\n",
       "      <th>wnt_inhibitor</th>\n",
       "    </tr>\n",
       "  </thead>\n",
       "  <tbody>\n",
       "    <tr>\n",
       "      <th>0</th>\n",
       "      <td>id_000644bb2</td>\n",
       "      <td>0</td>\n",
       "      <td>0</td>\n",
       "      <td>0</td>\n",
       "      <td>0</td>\n",
       "      <td>0</td>\n",
       "      <td>0</td>\n",
       "      <td>0</td>\n",
       "      <td>0</td>\n",
       "      <td>0</td>\n",
       "      <td>...</td>\n",
       "      <td>0</td>\n",
       "      <td>0</td>\n",
       "      <td>0</td>\n",
       "      <td>0</td>\n",
       "      <td>0</td>\n",
       "      <td>0</td>\n",
       "      <td>0</td>\n",
       "      <td>0</td>\n",
       "      <td>0</td>\n",
       "      <td>0</td>\n",
       "    </tr>\n",
       "    <tr>\n",
       "      <th>1</th>\n",
       "      <td>id_000779bfc</td>\n",
       "      <td>0</td>\n",
       "      <td>0</td>\n",
       "      <td>0</td>\n",
       "      <td>0</td>\n",
       "      <td>0</td>\n",
       "      <td>0</td>\n",
       "      <td>0</td>\n",
       "      <td>0</td>\n",
       "      <td>0</td>\n",
       "      <td>...</td>\n",
       "      <td>0</td>\n",
       "      <td>0</td>\n",
       "      <td>0</td>\n",
       "      <td>0</td>\n",
       "      <td>0</td>\n",
       "      <td>0</td>\n",
       "      <td>0</td>\n",
       "      <td>0</td>\n",
       "      <td>0</td>\n",
       "      <td>0</td>\n",
       "    </tr>\n",
       "    <tr>\n",
       "      <th>2</th>\n",
       "      <td>id_000a6266a</td>\n",
       "      <td>0</td>\n",
       "      <td>0</td>\n",
       "      <td>0</td>\n",
       "      <td>0</td>\n",
       "      <td>0</td>\n",
       "      <td>0</td>\n",
       "      <td>0</td>\n",
       "      <td>0</td>\n",
       "      <td>0</td>\n",
       "      <td>...</td>\n",
       "      <td>0</td>\n",
       "      <td>0</td>\n",
       "      <td>0</td>\n",
       "      <td>0</td>\n",
       "      <td>0</td>\n",
       "      <td>0</td>\n",
       "      <td>0</td>\n",
       "      <td>0</td>\n",
       "      <td>0</td>\n",
       "      <td>0</td>\n",
       "    </tr>\n",
       "    <tr>\n",
       "      <th>3</th>\n",
       "      <td>id_0015fd391</td>\n",
       "      <td>0</td>\n",
       "      <td>0</td>\n",
       "      <td>0</td>\n",
       "      <td>0</td>\n",
       "      <td>0</td>\n",
       "      <td>0</td>\n",
       "      <td>0</td>\n",
       "      <td>0</td>\n",
       "      <td>0</td>\n",
       "      <td>...</td>\n",
       "      <td>0</td>\n",
       "      <td>0</td>\n",
       "      <td>0</td>\n",
       "      <td>0</td>\n",
       "      <td>0</td>\n",
       "      <td>0</td>\n",
       "      <td>0</td>\n",
       "      <td>0</td>\n",
       "      <td>0</td>\n",
       "      <td>0</td>\n",
       "    </tr>\n",
       "    <tr>\n",
       "      <th>4</th>\n",
       "      <td>id_001626bd3</td>\n",
       "      <td>0</td>\n",
       "      <td>0</td>\n",
       "      <td>0</td>\n",
       "      <td>0</td>\n",
       "      <td>0</td>\n",
       "      <td>0</td>\n",
       "      <td>0</td>\n",
       "      <td>0</td>\n",
       "      <td>0</td>\n",
       "      <td>...</td>\n",
       "      <td>0</td>\n",
       "      <td>0</td>\n",
       "      <td>0</td>\n",
       "      <td>0</td>\n",
       "      <td>0</td>\n",
       "      <td>0</td>\n",
       "      <td>0</td>\n",
       "      <td>0</td>\n",
       "      <td>0</td>\n",
       "      <td>0</td>\n",
       "    </tr>\n",
       "  </tbody>\n",
       "</table>\n",
       "<p>5 rows × 207 columns</p>\n",
       "</div>"
      ],
      "text/plain": [
       "             id  5-alpha_reductase_inhibitor  11-beta-hsd1_inhibitor  \\\n",
       "0  id_000644bb2                            0                       0   \n",
       "1  id_000779bfc                            0                       0   \n",
       "2  id_000a6266a                            0                       0   \n",
       "3  id_0015fd391                            0                       0   \n",
       "4  id_001626bd3                            0                       0   \n",
       "\n",
       "   acat_inhibitor  acetylcholine_receptor_agonist  \\\n",
       "0               0                               0   \n",
       "1               0                               0   \n",
       "2               0                               0   \n",
       "3               0                               0   \n",
       "4               0                               0   \n",
       "\n",
       "   acetylcholine_receptor_antagonist  acetylcholinesterase_inhibitor  \\\n",
       "0                                  0                               0   \n",
       "1                                  0                               0   \n",
       "2                                  0                               0   \n",
       "3                                  0                               0   \n",
       "4                                  0                               0   \n",
       "\n",
       "   adenosine_receptor_agonist  adenosine_receptor_antagonist  \\\n",
       "0                           0                              0   \n",
       "1                           0                              0   \n",
       "2                           0                              0   \n",
       "3                           0                              0   \n",
       "4                           0                              0   \n",
       "\n",
       "   adenylyl_cyclase_activator  ...  tropomyosin_receptor_kinase_inhibitor  \\\n",
       "0                           0  ...                                      0   \n",
       "1                           0  ...                                      0   \n",
       "2                           0  ...                                      0   \n",
       "3                           0  ...                                      0   \n",
       "4                           0  ...                                      0   \n",
       "\n",
       "   trpv_agonist  trpv_antagonist  tubulin_inhibitor  \\\n",
       "0             0                0                  0   \n",
       "1             0                0                  0   \n",
       "2             0                0                  0   \n",
       "3             0                0                  0   \n",
       "4             0                0                  0   \n",
       "\n",
       "   tyrosine_kinase_inhibitor  ubiquitin_specific_protease_inhibitor  \\\n",
       "0                          0                                      0   \n",
       "1                          0                                      0   \n",
       "2                          0                                      0   \n",
       "3                          0                                      0   \n",
       "4                          0                                      0   \n",
       "\n",
       "   vegfr_inhibitor  vitamin_b  vitamin_d_receptor_agonist  wnt_inhibitor  \n",
       "0                0          0                           0              0  \n",
       "1                0          0                           0              0  \n",
       "2                0          0                           0              0  \n",
       "3                0          0                           0              0  \n",
       "4                0          0                           0              0  \n",
       "\n",
       "[5 rows x 207 columns]"
      ]
     },
     "execution_count": 6,
     "metadata": {},
     "output_type": "execute_result"
    }
   ],
   "source": [
    "df_result.head()"
   ]
  },
  {
   "cell_type": "markdown",
   "id": "4d06e705",
   "metadata": {},
   "source": [
    "# 1.0. DESCRIÇÃO DOS DADOS"
   ]
  },
  {
   "cell_type": "markdown",
   "id": "da5e7cc0",
   "metadata": {},
   "source": [
    "O objetivo da descrição dos dados é obter uma visão geral do dados que estamos trabalhando. Nesse estágio inicial iremos seguir as seguintes etapas:\n",
    "- **Dimensão dos Dados:** Encontrar a quantidade de linhas e colunas;\n",
    "- **Tipo dos Dados:** Cada coluna possui um tipo específico(Booleano, String, Int ou Float). Para uma melhor análise e resolução de possíveis divergências, essa informação é importante;\n",
    "- **Valores Faltantes:** Na vida real nem sempre teremos dados livres de incoerências. Os valores faltantes são aqueles que por algum motivo não foram colocados. É importante analisar o contexto para tratar esse dados;\n",
    "- **Descrição das Colunas**: Descobrir os valores únicos;\n",
    "- **Descrição Estatística:** Uma descrição básica dos dados. O objetivo é entender de maneira ampla o funcionamento das variáveis;\n",
    "- **Entendimento:** Qual o significado dos dados?"
   ]
  },
  {
   "cell_type": "markdown",
   "id": "67301526",
   "metadata": {},
   "source": [
    "## 1.1. Dimensão dos Dados"
   ]
  },
  {
   "cell_type": "markdown",
   "id": "8568202f",
   "metadata": {},
   "source": [
    "### Experimentos"
   ]
  },
  {
   "cell_type": "code",
   "execution_count": 7,
   "id": "8a3496f2",
   "metadata": {},
   "outputs": [
    {
     "name": "stdout",
     "output_type": "stream",
     "text": [
      "Número de linhas:23814\n",
      "Número de colunas:877\n"
     ]
    }
   ],
   "source": [
    "print(f'Número de linhas:{df_exp.shape[0]}')\n",
    "print(f'Número de colunas:{df_exp.shape[1]}')"
   ]
  },
  {
   "cell_type": "code",
   "execution_count": 8,
   "id": "a3002274",
   "metadata": {},
   "outputs": [
    {
     "name": "stdout",
     "output_type": "stream",
     "text": [
      "Número de colunas g-#:772\n",
      "Número de colunas c-#:100\n"
     ]
    }
   ],
   "source": [
    "# Contando o número de valores 'g-#'\n",
    "cont_columns('g', df_exp)\n",
    "\n",
    "# Contando o número de valores 'c-#'\n",
    "cont_columns('c', df_exp)"
   ]
  },
  {
   "cell_type": "markdown",
   "id": "73256d18",
   "metadata": {},
   "source": [
    "### Resultados"
   ]
  },
  {
   "cell_type": "code",
   "execution_count": 9,
   "id": "75abf057",
   "metadata": {},
   "outputs": [
    {
     "name": "stdout",
     "output_type": "stream",
     "text": [
      "Número de linhas:23814\n",
      "Número de colunas:207\n"
     ]
    }
   ],
   "source": [
    "print(f'Número de linhas:{df_result.shape[0]}')\n",
    "print(f'Número de colunas:{df_result.shape[1]}')"
   ]
  },
  {
   "cell_type": "markdown",
   "id": "058b2d23",
   "metadata": {},
   "source": [
    "## 1.2. Tipo dos Dados"
   ]
  },
  {
   "cell_type": "markdown",
   "id": "eca24f09",
   "metadata": {},
   "source": [
    "### Experimentos"
   ]
  },
  {
   "cell_type": "code",
   "execution_count": 10,
   "id": "6413ca2d",
   "metadata": {},
   "outputs": [
    {
     "data": {
      "text/plain": [
       "id             object\n",
       "tratamento     object\n",
       "tempo           int64\n",
       "dose           object\n",
       "droga          object\n",
       "g-0           float64\n",
       "c-0           float64\n",
       "dtype: object"
      ]
     },
     "execution_count": 10,
     "metadata": {},
     "output_type": "execute_result"
    }
   ],
   "source": [
    "df_exp.dtypes[[0, 1, 2, 3, 4, 5, 777]]"
   ]
  },
  {
   "cell_type": "markdown",
   "id": "5c739dc3",
   "metadata": {},
   "source": [
    "### Resultados"
   ]
  },
  {
   "cell_type": "code",
   "execution_count": 11,
   "id": "7efc4aad",
   "metadata": {},
   "outputs": [
    {
     "data": {
      "text/plain": [
       "id                                       object\n",
       "5-alpha_reductase_inhibitor               int64\n",
       "11-beta-hsd1_inhibitor                    int64\n",
       "acat_inhibitor                            int64\n",
       "acetylcholine_receptor_agonist            int64\n",
       "                                          ...  \n",
       "ubiquitin_specific_protease_inhibitor     int64\n",
       "vegfr_inhibitor                           int64\n",
       "vitamin_b                                 int64\n",
       "vitamin_d_receptor_agonist                int64\n",
       "wnt_inhibitor                             int64\n",
       "Length: 207, dtype: object"
      ]
     },
     "execution_count": 11,
     "metadata": {},
     "output_type": "execute_result"
    }
   ],
   "source": [
    "df_result.dtypes"
   ]
  },
  {
   "cell_type": "markdown",
   "id": "57c59144",
   "metadata": {},
   "source": [
    "## 1.3. Valores Faltantes"
   ]
  },
  {
   "cell_type": "markdown",
   "id": "16c29043",
   "metadata": {},
   "source": [
    "### Experimentos"
   ]
  },
  {
   "cell_type": "code",
   "execution_count": 12,
   "id": "a2960050",
   "metadata": {},
   "outputs": [
    {
     "data": {
      "text/plain": [
       "id       0\n",
       "g-572    0\n",
       "g-573    0\n",
       "g-574    0\n",
       "g-575    0\n",
       "        ..\n",
       "g-291    0\n",
       "g-292    0\n",
       "g-293    0\n",
       "g-282    0\n",
       "c-99     0\n",
       "Length: 877, dtype: int64"
      ]
     },
     "execution_count": 12,
     "metadata": {},
     "output_type": "execute_result"
    }
   ],
   "source": [
    "df_exp.isna().sum().sort_values(ascending=True)"
   ]
  },
  {
   "cell_type": "markdown",
   "id": "5d104526",
   "metadata": {},
   "source": [
    "### Resultados"
   ]
  },
  {
   "cell_type": "code",
   "execution_count": 13,
   "id": "061015ea",
   "metadata": {},
   "outputs": [
    {
     "data": {
      "text/plain": [
       "id                                      0\n",
       "monoacylglycerol_lipase_inhibitor       0\n",
       "monoamine_oxidase_inhibitor             0\n",
       "monopolar_spindle_1_kinase_inhibitor    0\n",
       "mtor_inhibitor                          0\n",
       "                                       ..\n",
       "cyclooxygenase_inhibitor                0\n",
       "cytochrome_p450_inhibitor               0\n",
       "dihydrofolate_reductase_inhibitor       0\n",
       "cdk_inhibitor                           0\n",
       "wnt_inhibitor                           0\n",
       "Length: 207, dtype: int64"
      ]
     },
     "execution_count": 13,
     "metadata": {},
     "output_type": "execute_result"
    }
   ],
   "source": [
    "df_result.isna().sum().sort_values(ascending=True)"
   ]
  },
  {
   "cell_type": "markdown",
   "id": "d02b5fa7",
   "metadata": {},
   "source": [
    "Os dados não possuem valores faltantes."
   ]
  },
  {
   "cell_type": "markdown",
   "id": "6844341f",
   "metadata": {},
   "source": [
    "## 1.4. Descrição das Colunas"
   ]
  },
  {
   "cell_type": "markdown",
   "id": "765c432c",
   "metadata": {},
   "source": [
    "### Experimentos"
   ]
  },
  {
   "cell_type": "markdown",
   "id": "86c45c10",
   "metadata": {},
   "source": [
    "#### Valores Únicos"
   ]
  },
  {
   "cell_type": "code",
   "execution_count": 14,
   "id": "e57fca49",
   "metadata": {},
   "outputs": [
    {
     "name": "stdout",
     "output_type": "stream",
     "text": [
      "tratamento: ['com_droga' 'com_controle']\n",
      "tempo: [24 72 48]\n",
      "dose: ['D1' 'D2']\n"
     ]
    }
   ],
   "source": [
    "for col in df_exp.columns:\n",
    "    if len(df_exp[col].unique()) < 10:\n",
    "        print(f'{col}: {df_exp[col].unique()}')"
   ]
  },
  {
   "cell_type": "markdown",
   "id": "2c89aa14",
   "metadata": {},
   "source": [
    "As demais colunas são valores continuos ou identificadores."
   ]
  },
  {
   "cell_type": "markdown",
   "id": "acfeecee",
   "metadata": {},
   "source": [
    "####  Proporções"
   ]
  },
  {
   "cell_type": "code",
   "execution_count": 15,
   "id": "345188b9",
   "metadata": {},
   "outputs": [
    {
     "name": "stdout",
     "output_type": "stream",
     "text": [
      "tratamento\n",
      "com_droga       0.921643\n",
      "com_controle    0.078357\n",
      "Name: tratamento, dtype: float64\n",
      "\n",
      "tempo\n",
      "48    0.346435\n",
      "72    0.327202\n",
      "24    0.326363\n",
      "Name: tempo, dtype: float64\n",
      "\n",
      "dose\n",
      "D1    0.510078\n",
      "D2    0.489922\n",
      "Name: dose, dtype: float64\n",
      "\n"
     ]
    }
   ],
   "source": [
    "for col in df_exp.columns:\n",
    "    if len(df_exp[col].unique()) < 10:\n",
    "        print(col)\n",
    "        print(f'{df_exp[col].value_counts(normalize=True)}')\n",
    "        print()"
   ]
  },
  {
   "cell_type": "markdown",
   "id": "4cd860fa",
   "metadata": {},
   "source": [
    "### Resultados"
   ]
  },
  {
   "cell_type": "markdown",
   "id": "07fa1c40",
   "metadata": {},
   "source": [
    "Na tabela de resultados, os valores são binários. Eles podem ser classificados em 1 (reage) ou 0 (não reage)"
   ]
  },
  {
   "cell_type": "markdown",
   "id": "065cd094",
   "metadata": {},
   "source": [
    "## 1.5. Descrição Estatística"
   ]
  },
  {
   "cell_type": "markdown",
   "id": "980f9f8f",
   "metadata": {},
   "source": [
    "### Variáveis Contínuas"
   ]
  },
  {
   "cell_type": "code",
   "execution_count": 16,
   "id": "8dc571e1",
   "metadata": {},
   "outputs": [],
   "source": [
    "# Separando as variáveis contínuas\n",
    "var_cont = df_exp.iloc[:, 5:]"
   ]
  },
  {
   "cell_type": "code",
   "execution_count": 17,
   "id": "b702f2ae",
   "metadata": {},
   "outputs": [
    {
     "data": {
      "text/html": [
       "<div>\n",
       "<style scoped>\n",
       "    .dataframe tbody tr th:only-of-type {\n",
       "        vertical-align: middle;\n",
       "    }\n",
       "\n",
       "    .dataframe tbody tr th {\n",
       "        vertical-align: top;\n",
       "    }\n",
       "\n",
       "    .dataframe thead th {\n",
       "        text-align: right;\n",
       "    }\n",
       "</style>\n",
       "<table border=\"1\" class=\"dataframe\">\n",
       "  <thead>\n",
       "    <tr style=\"text-align: right;\">\n",
       "      <th></th>\n",
       "      <th>attributes</th>\n",
       "      <th>min</th>\n",
       "      <th>max</th>\n",
       "      <th>range</th>\n",
       "      <th>mean</th>\n",
       "      <th>median</th>\n",
       "      <th>std</th>\n",
       "      <th>skew</th>\n",
       "      <th>kurtosis</th>\n",
       "    </tr>\n",
       "  </thead>\n",
       "  <tbody>\n",
       "    <tr>\n",
       "      <th>0</th>\n",
       "      <td>g-0</td>\n",
       "      <td>-5.513</td>\n",
       "      <td>10.000</td>\n",
       "      <td>15.513</td>\n",
       "      <td>0.248366</td>\n",
       "      <td>-0.00885</td>\n",
       "      <td>1.393369</td>\n",
       "      <td>2.790270</td>\n",
       "      <td>11.332955</td>\n",
       "    </tr>\n",
       "    <tr>\n",
       "      <th>1</th>\n",
       "      <td>g-1</td>\n",
       "      <td>-5.737</td>\n",
       "      <td>5.039</td>\n",
       "      <td>10.776</td>\n",
       "      <td>-0.095684</td>\n",
       "      <td>-0.04660</td>\n",
       "      <td>0.812346</td>\n",
       "      <td>-0.169398</td>\n",
       "      <td>2.305161</td>\n",
       "    </tr>\n",
       "    <tr>\n",
       "      <th>2</th>\n",
       "      <td>g-2</td>\n",
       "      <td>-9.104</td>\n",
       "      <td>8.257</td>\n",
       "      <td>17.361</td>\n",
       "      <td>0.152253</td>\n",
       "      <td>0.07520</td>\n",
       "      <td>1.035710</td>\n",
       "      <td>0.361242</td>\n",
       "      <td>3.893016</td>\n",
       "    </tr>\n",
       "    <tr>\n",
       "      <th>3</th>\n",
       "      <td>g-3</td>\n",
       "      <td>-5.998</td>\n",
       "      <td>10.000</td>\n",
       "      <td>15.998</td>\n",
       "      <td>0.081971</td>\n",
       "      <td>0.00805</td>\n",
       "      <td>0.949992</td>\n",
       "      <td>1.816132</td>\n",
       "      <td>10.988063</td>\n",
       "    </tr>\n",
       "    <tr>\n",
       "      <th>4</th>\n",
       "      <td>g-4</td>\n",
       "      <td>-6.369</td>\n",
       "      <td>10.000</td>\n",
       "      <td>16.369</td>\n",
       "      <td>0.057347</td>\n",
       "      <td>-0.02690</td>\n",
       "      <td>1.032070</td>\n",
       "      <td>1.092531</td>\n",
       "      <td>6.895809</td>\n",
       "    </tr>\n",
       "    <tr>\n",
       "      <th>...</th>\n",
       "      <td>...</td>\n",
       "      <td>...</td>\n",
       "      <td>...</td>\n",
       "      <td>...</td>\n",
       "      <td>...</td>\n",
       "      <td>...</td>\n",
       "      <td>...</td>\n",
       "      <td>...</td>\n",
       "      <td>...</td>\n",
       "    </tr>\n",
       "    <tr>\n",
       "      <th>867</th>\n",
       "      <td>c-95</td>\n",
       "      <td>-10.000</td>\n",
       "      <td>2.814</td>\n",
       "      <td>12.814</td>\n",
       "      <td>-0.353726</td>\n",
       "      <td>-0.01025</td>\n",
       "      <td>1.629256</td>\n",
       "      <td>-3.423862</td>\n",
       "      <td>14.322822</td>\n",
       "    </tr>\n",
       "    <tr>\n",
       "      <th>868</th>\n",
       "      <td>c-96</td>\n",
       "      <td>-10.000</td>\n",
       "      <td>3.505</td>\n",
       "      <td>13.505</td>\n",
       "      <td>-0.463485</td>\n",
       "      <td>-0.00125</td>\n",
       "      <td>2.059682</td>\n",
       "      <td>-3.289216</td>\n",
       "      <td>11.498551</td>\n",
       "    </tr>\n",
       "    <tr>\n",
       "      <th>869</th>\n",
       "      <td>c-97</td>\n",
       "      <td>-10.000</td>\n",
       "      <td>2.924</td>\n",
       "      <td>12.924</td>\n",
       "      <td>-0.378241</td>\n",
       "      <td>-0.00680</td>\n",
       "      <td>1.703579</td>\n",
       "      <td>-3.310345</td>\n",
       "      <td>12.822259</td>\n",
       "    </tr>\n",
       "    <tr>\n",
       "      <th>870</th>\n",
       "      <td>c-98</td>\n",
       "      <td>-10.000</td>\n",
       "      <td>3.111</td>\n",
       "      <td>13.111</td>\n",
       "      <td>-0.470252</td>\n",
       "      <td>0.01400</td>\n",
       "      <td>1.834789</td>\n",
       "      <td>-2.981826</td>\n",
       "      <td>10.141278</td>\n",
       "    </tr>\n",
       "    <tr>\n",
       "      <th>871</th>\n",
       "      <td>c-99</td>\n",
       "      <td>-10.000</td>\n",
       "      <td>3.805</td>\n",
       "      <td>13.805</td>\n",
       "      <td>-0.301505</td>\n",
       "      <td>-0.01950</td>\n",
       "      <td>1.407888</td>\n",
       "      <td>-3.057907</td>\n",
       "      <td>12.239080</td>\n",
       "    </tr>\n",
       "  </tbody>\n",
       "</table>\n",
       "<p>872 rows × 9 columns</p>\n",
       "</div>"
      ],
      "text/plain": [
       "    attributes     min     max   range      mean   median       std      skew  \\\n",
       "0          g-0  -5.513  10.000  15.513  0.248366 -0.00885  1.393369  2.790270   \n",
       "1          g-1  -5.737   5.039  10.776 -0.095684 -0.04660  0.812346 -0.169398   \n",
       "2          g-2  -9.104   8.257  17.361  0.152253  0.07520  1.035710  0.361242   \n",
       "3          g-3  -5.998  10.000  15.998  0.081971  0.00805  0.949992  1.816132   \n",
       "4          g-4  -6.369  10.000  16.369  0.057347 -0.02690  1.032070  1.092531   \n",
       "..         ...     ...     ...     ...       ...      ...       ...       ...   \n",
       "867       c-95 -10.000   2.814  12.814 -0.353726 -0.01025  1.629256 -3.423862   \n",
       "868       c-96 -10.000   3.505  13.505 -0.463485 -0.00125  2.059682 -3.289216   \n",
       "869       c-97 -10.000   2.924  12.924 -0.378241 -0.00680  1.703579 -3.310345   \n",
       "870       c-98 -10.000   3.111  13.111 -0.470252  0.01400  1.834789 -2.981826   \n",
       "871       c-99 -10.000   3.805  13.805 -0.301505 -0.01950  1.407888 -3.057907   \n",
       "\n",
       "      kurtosis  \n",
       "0    11.332955  \n",
       "1     2.305161  \n",
       "2     3.893016  \n",
       "3    10.988063  \n",
       "4     6.895809  \n",
       "..         ...  \n",
       "867  14.322822  \n",
       "868  11.498551  \n",
       "869  12.822259  \n",
       "870  10.141278  \n",
       "871  12.239080  \n",
       "\n",
       "[872 rows x 9 columns]"
      ]
     },
     "execution_count": 17,
     "metadata": {},
     "output_type": "execute_result"
    }
   ],
   "source": [
    "# Medidas de Tendência Central - mean, meadina \n",
    "ct1 = pd.DataFrame(var_cont.apply(np.mean)).T\n",
    "ct2 = pd.DataFrame(var_cont.apply(np.median)).T\n",
    "\n",
    "# Dispersão - std, min, max, range, skew, kurtosis\n",
    "d1 = pd.DataFrame(var_cont.apply(np.std)).T \n",
    "d2 = pd.DataFrame(var_cont.apply(min)).T \n",
    "d3 = pd.DataFrame(var_cont.apply(max)).T \n",
    "d4 = pd.DataFrame(var_cont.apply(lambda x: x.max() - x.min())).T \n",
    "d5 = pd.DataFrame(var_cont.apply(lambda x: x.skew())).T \n",
    "d6 = pd.DataFrame(var_cont.apply(lambda x: x.kurtosis())).T \n",
    "\n",
    "# Concat\n",
    "m = pd.concat([d2, d3, d4, ct1, ct2, d1, d5, d6]).T.reset_index()\n",
    "m.columns = ['attributes', 'min', 'max', 'range', 'mean', 'median', 'std', 'skew', 'kurtosis']\n",
    "m"
   ]
  },
  {
   "cell_type": "markdown",
   "id": "acc42104",
   "metadata": {},
   "source": [
    "### Variáveis categóricas"
   ]
  },
  {
   "cell_type": "code",
   "execution_count": 18,
   "id": "8f2f5c6c",
   "metadata": {},
   "outputs": [],
   "source": [
    "# separação das variáveis\n",
    "df_aux_1 = df_exp.iloc[:, 1:4]\n",
    "df_aux_2 = df_result.iloc[:, 1:]\n",
    "\n",
    "# concatenando as variáveis\n",
    "df_aux_3 = pd.concat([df_aux_1, df_aux_2], axis=1)\n",
    "\n",
    "# transformando as variáveis int em object\n",
    "for col in df_aux_3:\n",
    "    if df_aux_3[col].dtypes != 'object':\n",
    "        df_aux_3[col] = df_aux_3[col].astype('str')"
   ]
  },
  {
   "cell_type": "code",
   "execution_count": 19,
   "id": "8727371d",
   "metadata": {},
   "outputs": [
    {
     "data": {
      "text/html": [
       "<div>\n",
       "<style scoped>\n",
       "    .dataframe tbody tr th:only-of-type {\n",
       "        vertical-align: middle;\n",
       "    }\n",
       "\n",
       "    .dataframe tbody tr th {\n",
       "        vertical-align: top;\n",
       "    }\n",
       "\n",
       "    .dataframe thead th {\n",
       "        text-align: right;\n",
       "    }\n",
       "</style>\n",
       "<table border=\"1\" class=\"dataframe\">\n",
       "  <thead>\n",
       "    <tr style=\"text-align: right;\">\n",
       "      <th></th>\n",
       "      <th>moda</th>\n",
       "    </tr>\n",
       "  </thead>\n",
       "  <tbody>\n",
       "    <tr>\n",
       "      <th>tratamento</th>\n",
       "      <td>com_droga</td>\n",
       "    </tr>\n",
       "    <tr>\n",
       "      <th>tempo</th>\n",
       "      <td>48</td>\n",
       "    </tr>\n",
       "    <tr>\n",
       "      <th>dose</th>\n",
       "      <td>D1</td>\n",
       "    </tr>\n",
       "    <tr>\n",
       "      <th>5-alpha_reductase_inhibitor</th>\n",
       "      <td>0</td>\n",
       "    </tr>\n",
       "    <tr>\n",
       "      <th>11-beta-hsd1_inhibitor</th>\n",
       "      <td>0</td>\n",
       "    </tr>\n",
       "    <tr>\n",
       "      <th>...</th>\n",
       "      <td>...</td>\n",
       "    </tr>\n",
       "    <tr>\n",
       "      <th>ubiquitin_specific_protease_inhibitor</th>\n",
       "      <td>0</td>\n",
       "    </tr>\n",
       "    <tr>\n",
       "      <th>vegfr_inhibitor</th>\n",
       "      <td>0</td>\n",
       "    </tr>\n",
       "    <tr>\n",
       "      <th>vitamin_b</th>\n",
       "      <td>0</td>\n",
       "    </tr>\n",
       "    <tr>\n",
       "      <th>vitamin_d_receptor_agonist</th>\n",
       "      <td>0</td>\n",
       "    </tr>\n",
       "    <tr>\n",
       "      <th>wnt_inhibitor</th>\n",
       "      <td>0</td>\n",
       "    </tr>\n",
       "  </tbody>\n",
       "</table>\n",
       "<p>209 rows × 1 columns</p>\n",
       "</div>"
      ],
      "text/plain": [
       "                                            moda\n",
       "tratamento                             com_droga\n",
       "tempo                                         48\n",
       "dose                                          D1\n",
       "5-alpha_reductase_inhibitor                    0\n",
       "11-beta-hsd1_inhibitor                         0\n",
       "...                                          ...\n",
       "ubiquitin_specific_protease_inhibitor          0\n",
       "vegfr_inhibitor                                0\n",
       "vitamin_b                                      0\n",
       "vitamin_d_receptor_agonist                     0\n",
       "wnt_inhibitor                                  0\n",
       "\n",
       "[209 rows x 1 columns]"
      ]
     },
     "execution_count": 19,
     "metadata": {},
     "output_type": "execute_result"
    }
   ],
   "source": [
    "moda = pd.DataFrame(df_aux_3.apply(lambda x: statistics.mode(x))) # DataFrame com os valores das modas\n",
    "moda.columns = ['moda'] # renomear colunas\n",
    "\n",
    "moda"
   ]
  },
  {
   "cell_type": "markdown",
   "id": "c4eb8763",
   "metadata": {},
   "source": [
    "## 1.6. Entendimento"
   ]
  },
  {
   "cell_type": "markdown",
   "id": "75cc0d1c",
   "metadata": {},
   "source": [
    "### experimento:\n",
    "   **id:**\n",
    "   Identificador do conjunto amostral. Identifica culturas de células; \n",
    "    \n",
    "    \n",
    "   **tratamento:**\n",
    "   O tipo de tratamento utilizado. Pode ser:\n",
    "   - com_droga: uso da droga;\n",
    "   - com_controle: uso de controle.\n",
    "   \n",
    "   \n",
    "   **tempo:**\n",
    "   Tempo que o efeito da droga se prolonga. Pode ser:\n",
    "   - 24: 24 horas\n",
    "   - 48: 48 horas\n",
    "   - 72: 72 horas\n",
    "   \n",
    "   \n",
    "   **dose:**\n",
    "   Tipo de dose utilizada.\n",
    "   - D1: dose tipo 1\n",
    "   - D2: dose tipo 2\n",
    "\n",
    "\n",
    "   **droga:**\n",
    "   Droga utilizada. São identificadores irreconhecíveis.\n",
    "\n",
    "\n",
    "   **g-#:**\n",
    "   Expressão dos genes. Os valores são normalizados\n",
    "   - Normalizadoe ntre -10 e 10\n",
    "    \n",
    "    \n",
    "   **c-#:**\n",
    "   Viabilidade celular.\n",
    "   - Normalizado entre -10 e 10\n",
    "\n",
    "### resultado:\n",
    "\n",
    "   **id**: Identificador do conjunto amostral. Identifica culturas de células;\n",
    "\n",
    "   **Demais colunas**: Mecanismo de ação com o alvo.\n",
    "   - 0: Não ativa o receptor\n",
    "   - 1: Ativa o receptor"
   ]
  },
  {
   "cell_type": "markdown",
   "id": "5b4ee9ff",
   "metadata": {},
   "source": [
    "# 2.0. FEATURE ENGINEERING"
   ]
  },
  {
   "cell_type": "markdown",
   "id": "f893f3e3",
   "metadata": {},
   "source": [
    "O objetivo da etapa de **Feature Engineering** é criar variáveis que possam ajudar na análise exploratória de dados. Também serão criadas hipóteses que serão analisadas na próxima Etapa.\n",
    "\n",
    "Aqui o profissional de dados reflete sobre a construção dos dados. Uma etapa que demanda tempo, mas que poderá facilitar muito o trabalho de análise."
   ]
  },
  {
   "cell_type": "markdown",
   "id": "420afe57",
   "metadata": {},
   "source": [
    "## 2.1. Mapa Mental de Hipóteses"
   ]
  },
  {
   "cell_type": "code",
   "execution_count": 20,
   "id": "62890676",
   "metadata": {},
   "outputs": [
    {
     "data": {
      "image/png": "[encoded data removed]",
      "text/plain": [
       "<IPython.core.display.Image object>"
      ]
     },
     "execution_count": 20,
     "metadata": {},
     "output_type": "execute_result"
    }
   ],
   "source": [
    "Image('https://raw.githubusercontent.com/tadeucbm/imersao-dados-desafio-final/main/img/MindMapHypothesis.png')"
   ]
  },
  {
   "cell_type": "markdown",
   "id": "ef2b083a",
   "metadata": {},
   "source": [
    "## 2.2. Criação das Hipóteses"
   ]
  },
  {
   "cell_type": "markdown",
   "id": "6c527bc1",
   "metadata": {},
   "source": [
    "### 2.2.1. Gene"
   ]
  },
  {
   "cell_type": "markdown",
   "id": "99a888d1",
   "metadata": {},
   "source": [
    "**1.** Maior média dos valores de viabilidade celular implica em mais ativações\n",
    "\n",
    "**2.** Uma maior quantidade de expressões genéticas implica em mais ativações"
   ]
  },
  {
   "cell_type": "markdown",
   "id": "f6346bed",
   "metadata": {},
   "source": [
    "### 2.2.2. Droga"
   ]
  },
  {
   "cell_type": "markdown",
   "id": "85ec7575",
   "metadata": {},
   "source": [
    "**1.** Tratamentos com controle não possuem ativações\n",
    "\n",
    "**2.** D2 ativa mais que D1\n",
    "\n",
    "**3.** Um maior período de efeito da droga implica em mais ativações"
   ]
  },
  {
   "cell_type": "markdown",
   "id": "62567607",
   "metadata": {},
   "source": [
    "### 2.2.3. Lista Final"
   ]
  },
  {
   "cell_type": "markdown",
   "id": "6932c511",
   "metadata": {},
   "source": [
    "**1.** Maior média dos valores de viabilidade celular implica em mais ativações\n",
    "\n",
    "**2.** Uma maior quantidade de expressões genéticas implica em mais ativações\n",
    "\n",
    "**3.** Tratamentos com controle não possuem ativações\n",
    "\n",
    "**4.** D2 ativa mais que D1\n",
    "\n",
    "**5.** Um maior período de efeito da droga implica em mais ativações"
   ]
  },
  {
   "cell_type": "markdown",
   "id": "39180000",
   "metadata": {},
   "source": [
    "## 2.3. Feature Engineering"
   ]
  },
  {
   "cell_type": "code",
   "execution_count": 21,
   "id": "c5a4b634",
   "metadata": {},
   "outputs": [],
   "source": [
    "# contagem de moa's por cultura de célula\n",
    "df_result['n_moa'] = df_result.select_dtypes('int64').sum(axis=1)\n",
    "\n",
    "# se o moa ativa ou não\n",
    "df_result['ativo_moa'] = [0 if value == 0 else 1 for value in df_result['n_moa']]\n",
    "\n",
    "# media dos valores de c\n",
    "df_exp['mean_c'] = df_exp.iloc[:, 777:].mean(axis=1)\n",
    "\n",
    "# media dos valores de g\n",
    "df_exp['mean_g'] = df_exp.iloc[:, 5:777].mean(axis=1)"
   ]
  },
  {
   "cell_type": "code",
   "execution_count": 22,
   "id": "84b89775",
   "metadata": {},
   "outputs": [],
   "source": [
    "# merge dos conjuntos de dados\n",
    "df_2 = pd.merge(df_exp, df_result[['id', 'n_moa', 'ativo_moa']], on='id')"
   ]
  },
  {
   "cell_type": "markdown",
   "id": "56cee979",
   "metadata": {},
   "source": [
    "# 3.0. ANALISE EXPLORATORIA DE DADOS"
   ]
  },
  {
   "cell_type": "markdown",
   "id": "a9874d3f",
   "metadata": {},
   "source": [
    "Como as variáveis se comportam em relação ao fenômeno estudado?\n",
    "\n",
    "A **Análise Exploratória de Dados** é o momento de buscar relações, entender o funcionamento dos dados e contestar as hipóteses levantadas na etapa anterior."
   ]
  },
  {
   "cell_type": "code",
   "execution_count": 23,
   "id": "de3203b2",
   "metadata": {},
   "outputs": [],
   "source": [
    "df_3 = df_2.copy()"
   ]
  },
  {
   "cell_type": "markdown",
   "id": "7222f9f8",
   "metadata": {},
   "source": [
    "## 3.1. Análise Univariada"
   ]
  },
  {
   "cell_type": "markdown",
   "id": "e79913d7",
   "metadata": {},
   "source": [
    "### 3.1.1. Variável Resposta"
   ]
  },
  {
   "cell_type": "code",
   "execution_count": 24,
   "id": "77381ec0",
   "metadata": {},
   "outputs": [
    {
     "data": {
      "text/plain": [
       "Text(0.5, 0, 'Quantidade de Ativações')"
      ]
     },
     "execution_count": 24,
     "metadata": {},
     "output_type": "execute_result"
    },
    {
     "data": {
      "image/png": "[encoded data removed]",
      "text/plain": [
       "<Figure size 1800x864 with 1 Axes>"
      ]
     },
     "metadata": {},
     "output_type": "display_data"
    }
   ],
   "source": [
    "# Plot de frequência dos MOA's\n",
    "sns.countplot(x = df_3['n_moa'],\n",
    "              order = df_3['n_moa'].value_counts().index)\n",
    "\n",
    "# Titulo\n",
    "plt.title('Frequência por Quantidade de Repetições')\n",
    "\n",
    "# Labels\n",
    "plt.ylabel('Frequência')\n",
    "plt.xlabel('Quantidade de Ativações')"
   ]
  },
  {
   "cell_type": "code",
   "execution_count": 25,
   "id": "fd674387",
   "metadata": {},
   "outputs": [
    {
     "data": {
      "text/plain": [
       "1    12532\n",
       "0     9367\n",
       "2     1538\n",
       "3      303\n",
       "4       55\n",
       "5       13\n",
       "7        6\n",
       "Name: n_moa, dtype: int64"
      ]
     },
     "execution_count": 25,
     "metadata": {},
     "output_type": "execute_result"
    }
   ],
   "source": [
    "df_3['n_moa'].value_counts()"
   ]
  },
  {
   "cell_type": "markdown",
   "id": "3d5ef95a",
   "metadata": {},
   "source": [
    "- A Maior quantiadade dos dados ou ativou uma vez, ou não ativou."
   ]
  },
  {
   "cell_type": "code",
   "execution_count": 26,
   "id": "82923190",
   "metadata": {},
   "outputs": [
    {
     "data": {
      "text/plain": [
       "Text(0.5, 0, 'Ativação')"
      ]
     },
     "execution_count": 26,
     "metadata": {},
     "output_type": "execute_result"
    },
    {
     "data": {
      "image/png": "[encoded data removed]",
      "text/plain": [
       "<Figure size 1800x864 with 1 Axes>"
      ]
     },
     "metadata": {},
     "output_type": "display_data"
    }
   ],
   "source": [
    "# Plot de frequência da variável resposta\n",
    "sns.countplot(x = df_3['ativo_moa'])\n",
    "\n",
    "# Titulo\n",
    "plt.title('Frequência da Variável Resposta')\n",
    "\n",
    "# Labels\n",
    "plt.ylabel('Frequência')\n",
    "plt.xlabel('Ativação')"
   ]
  },
  {
   "cell_type": "markdown",
   "id": "ad7653a0",
   "metadata": {},
   "source": [
    "- A ocorrência modal é a de 3 ativações;\n",
    "- Ativações de maior grau são menos comuns;\n",
    "- Existe uma considerável quantidade de dados sem ativações;\n",
    "- A variável resposta(ativação) é desbalanceada. Existem consideravelmente mais casos onde ocorrem ativações."
   ]
  },
  {
   "cell_type": "markdown",
   "id": "5dab77a6",
   "metadata": {},
   "source": [
    "### 3.1.2. Variáveis Numéricas"
   ]
  },
  {
   "cell_type": "markdown",
   "id": "85ab11d0",
   "metadata": {},
   "source": [
    "Como os dados referentes a Viabilidade de Celular e a Expressão Genética estão presentes em grandes quantidades, serão selecionadas algumas amostras aleatórias para análise."
   ]
  },
  {
   "cell_type": "code",
   "execution_count": 27,
   "id": "160af40a",
   "metadata": {},
   "outputs": [],
   "source": [
    "# Selecionando 10 Expressões Genéticas Aleatórias\n",
    "df_g = df_3.iloc[:, 5:-104]\n",
    "samples_df_g = df_g.sample(12, axis=1, random_state=25) # Coletando sample"
   ]
  },
  {
   "cell_type": "code",
   "execution_count": 28,
   "id": "312e1e67",
   "metadata": {},
   "outputs": [],
   "source": [
    "# Selecionando 10 Viabilidades Celulares Aleatórias\n",
    "df_c = df_3.iloc[:, 777:-4]\n",
    "samples_df_c = df_c.sample(12, axis=1, random_state=25) # Coletando sample"
   ]
  },
  {
   "cell_type": "code",
   "execution_count": 29,
   "id": "0da0abba",
   "metadata": {},
   "outputs": [
    {
     "data": {
      "text/plain": [
       "Text(0.5, 1.0, 'Variáveis g-#')"
      ]
     },
     "execution_count": 29,
     "metadata": {},
     "output_type": "execute_result"
    },
    {
     "data": {
      "image/png": "[encoded data removed]",
      "text/plain": [
       "<Figure size 1800x864 with 12 Axes>"
      ]
     },
     "metadata": {},
     "output_type": "display_data"
    }
   ],
   "source": [
    "# Plot de distribuição dos samples selecionados\n",
    "samples_df_g.hist(bins=100);\n",
    "\n",
    "# Title\n",
    "plt.title('Variáveis g-#')"
   ]
  },
  {
   "cell_type": "code",
   "execution_count": 30,
   "id": "8be1c8c9",
   "metadata": {},
   "outputs": [
    {
     "data": {
      "text/plain": [
       "Text(0.5, 1.0, 'Variáveis c-#')"
      ]
     },
     "execution_count": 30,
     "metadata": {},
     "output_type": "execute_result"
    },
    {
     "data": {
      "image/png": "[encoded data removed]",
      "text/plain": [
       "<Figure size 1800x864 with 12 Axes>"
      ]
     },
     "metadata": {},
     "output_type": "display_data"
    }
   ],
   "source": [
    "# Plot de distribuições dos samples selecionados\n",
    "samples_df_c.hist(bins=100);\n",
    "\n",
    "# Title\n",
    "plt.title('Variáveis c-#')"
   ]
  },
  {
   "cell_type": "markdown",
   "id": "b8a2fccb",
   "metadata": {},
   "source": [
    "- Ambos os tipos de dados (g e c) estão normalizados em 0;\n",
    "- Algumas samples possuem certo alongamento na calda em algum dos lados, porém reduzidas;\n",
    "- Algumas samples possuem quantidades aumentados em Viabilidades Celulares mais baixas."
   ]
  },
  {
   "cell_type": "code",
   "execution_count": 31,
   "id": "90aaaadb",
   "metadata": {},
   "outputs": [
    {
     "data": {
      "text/plain": [
       "<AxesSubplot:xlabel='mean_g'>"
      ]
     },
     "execution_count": 31,
     "metadata": {},
     "output_type": "execute_result"
    },
    {
     "data": {
      "image/png": "[encoded data removed]",
      "text/plain": [
       "<Figure size 1800x864 with 4 Axes>"
      ]
     },
     "metadata": {},
     "output_type": "display_data"
    }
   ],
   "source": [
    "# Criando um grid\n",
    "grid = plt.GridSpec(2, 2)\n",
    "\n",
    "# histograma valores g-#\n",
    "plt.subplot(grid[0, 0])\n",
    "df_3.loc[:, 'mean_c'].hist(bins=100);\n",
    "#title\n",
    "plt.title('Distribuição da Média dos Valores g-#')\n",
    "\n",
    "# histograma valorex c-#\n",
    "plt.subplot(grid[0, 1])\n",
    "df_3.loc[:, 'mean_g'].hist(bins=100);\n",
    "#title\n",
    "plt.title('Distribuição da Média dos Valores c-#')\n",
    "\n",
    "plt.subplot(grid[1, 0])\n",
    "sns.boxplot(x = df_3.loc[:, 'mean_c'])\n",
    "\n",
    "plt.subplot(grid[1, 1])\n",
    "sns.boxplot(x = df_3.loc[:, 'mean_g'])"
   ]
  },
  {
   "cell_type": "markdown",
   "id": "bf334c1c",
   "metadata": {},
   "source": [
    "- A distribuição das médias, tanto de c quanto de g, se aproximam de uma normal\n",
    "- Entretanto existem vários outliers."
   ]
  },
  {
   "cell_type": "markdown",
   "id": "459aa0a5",
   "metadata": {},
   "source": [
    "### 3.1.3. Variáveis Categóricas"
   ]
  },
  {
   "cell_type": "code",
   "execution_count": 32,
   "id": "6cd6ed99",
   "metadata": {},
   "outputs": [],
   "source": [
    "# Separação das variáveis categóricas\n",
    "cat_var = df_3.loc[:, ['tratamento', 'tempo', 'dose', 'droga']]"
   ]
  },
  {
   "cell_type": "markdown",
   "id": "ca78ccbc",
   "metadata": {},
   "source": [
    "#### Tratamento"
   ]
  },
  {
   "cell_type": "code",
   "execution_count": 33,
   "id": "85f0f8bd",
   "metadata": {},
   "outputs": [],
   "source": [
    "com_droga = cat_var['tratamento'].value_counts(normalize=True)[0]\n",
    "com_controle = cat_var['tratamento'].value_counts(normalize=True)[1]"
   ]
  },
  {
   "cell_type": "code",
   "execution_count": 34,
   "id": "c67903f7",
   "metadata": {},
   "outputs": [
    {
     "data": {
      "text/plain": [
       "Text(0.5, 0, 'Tipo de Tratamento')"
      ]
     },
     "execution_count": 34,
     "metadata": {},
     "output_type": "execute_result"
    },
    {
     "data": {
      "image/png": "[encoded data removed]",
      "text/plain": [
       "<Figure size 1800x864 with 1 Axes>"
      ]
     },
     "metadata": {},
     "output_type": "display_data"
    }
   ],
   "source": [
    "# plot tratamento\n",
    "sns.countplot(x = cat_var['tratamento'])\n",
    "\n",
    "# Titulo\n",
    "plt.title('Frequência por Tipo de Tratamento')\n",
    "\n",
    "# Labels\n",
    "plt.ylabel('Frequência')\n",
    "plt.xlabel('Tipo de Tratamento')"
   ]
  },
  {
   "cell_type": "code",
   "execution_count": 35,
   "id": "d6d685c7",
   "metadata": {},
   "outputs": [
    {
     "name": "stdout",
     "output_type": "stream",
     "text": [
      "Proporção dos dados com controle: 0.0784\n",
      "Proporção dos dados com droga: 0.9216\n"
     ]
    }
   ],
   "source": [
    "print(f'Proporção dos dados com controle: {com_controle:.4f}')\n",
    "print(f'Proporção dos dados com droga: {com_droga:.4f}')"
   ]
  },
  {
   "cell_type": "markdown",
   "id": "515de987",
   "metadata": {},
   "source": [
    "- Tratamento é uma variável altamente desbalanceada.\n",
    "- Existem muito mais casos de testes com droga do que com controle"
   ]
  },
  {
   "cell_type": "markdown",
   "id": "58585312",
   "metadata": {},
   "source": [
    "#### Tempo"
   ]
  },
  {
   "cell_type": "code",
   "execution_count": 36,
   "id": "f56f4eb3",
   "metadata": {},
   "outputs": [],
   "source": [
    "# Contador normalizado do tempo\n",
    "t_48 = cat_var['tempo'].value_counts(normalize=True).values[0]\n",
    "t_72 = cat_var['tempo'].value_counts(normalize=True).values[1]\n",
    "t_24 = cat_var['tempo'].value_counts(normalize=True).values[2]"
   ]
  },
  {
   "cell_type": "code",
   "execution_count": 37,
   "id": "25db3d7d",
   "metadata": {},
   "outputs": [
    {
     "data": {
      "text/plain": [
       "Text(0.5, 0, 'Tempo de Reação do Tratamento')"
      ]
     },
     "execution_count": 37,
     "metadata": {},
     "output_type": "execute_result"
    },
    {
     "data": {
      "image/png": "[encoded data removed]",
      "text/plain": [
       "<Figure size 1800x864 with 1 Axes>"
      ]
     },
     "metadata": {},
     "output_type": "display_data"
    }
   ],
   "source": [
    "# plot por tempo\n",
    "sns.countplot(x = cat_var['tempo'],\n",
    "              order = cat_var['tempo'].value_counts().index)\n",
    "\n",
    "# Titulo\n",
    "plt.title('Frequência por Tempo de Reação do Tratamento')\n",
    "\n",
    "# Labels\n",
    "plt.ylabel('Frequência')\n",
    "plt.xlabel('Tempo de Reação do Tratamento')"
   ]
  },
  {
   "cell_type": "code",
   "execution_count": 38,
   "id": "8426fb6f",
   "metadata": {},
   "outputs": [
    {
     "name": "stdout",
     "output_type": "stream",
     "text": [
      "Proporção dos dados com 24h: 0.3264\n",
      "Proporção dos dados com 48h: 0.3464\n",
      "Proporção dos dados com 72h: 0.3272\n"
     ]
    }
   ],
   "source": [
    "print(f'Proporção dos dados com 24h: {t_24:.4f}')\n",
    "print(f'Proporção dos dados com 48h: {t_48:.4f}')\n",
    "print(f'Proporção dos dados com 72h: {t_72:.4f}')"
   ]
  },
  {
   "cell_type": "markdown",
   "id": "1977fe69",
   "metadata": {},
   "source": [
    "- A variável tempo é consideravelmente balanceada;\n",
    "- O valor de maior ocorrência é de 48h"
   ]
  },
  {
   "cell_type": "markdown",
   "id": "d4f8ec2c",
   "metadata": {},
   "source": [
    "#### Dose"
   ]
  },
  {
   "cell_type": "code",
   "execution_count": 39,
   "id": "9fe0cba3",
   "metadata": {},
   "outputs": [],
   "source": [
    "# Contador normalizado da dose\n",
    "d1 = cat_var['dose'].value_counts(normalize=True)[0]\n",
    "d2 = cat_var['dose'].value_counts(normalize=True)[1]"
   ]
  },
  {
   "cell_type": "code",
   "execution_count": 40,
   "id": "eb5fb4b1",
   "metadata": {},
   "outputs": [
    {
     "data": {
      "text/plain": [
       "Text(0.5, 0, 'Dose')"
      ]
     },
     "execution_count": 40,
     "metadata": {},
     "output_type": "execute_result"
    },
    {
     "data": {
      "image/png": "[encoded data removed]",
      "text/plain": [
       "<Figure size 1800x864 with 1 Axes>"
      ]
     },
     "metadata": {},
     "output_type": "display_data"
    }
   ],
   "source": [
    "# plot dose\n",
    "sns.countplot(x = cat_var['dose']);\n",
    "\n",
    "# Titulo\n",
    "plt.title('Frequência por Dose')\n",
    "\n",
    "# Labels\n",
    "plt.ylabel('Frequência')\n",
    "plt.xlabel('Dose')"
   ]
  },
  {
   "cell_type": "code",
   "execution_count": 41,
   "id": "dce58dd0",
   "metadata": {},
   "outputs": [
    {
     "name": "stdout",
     "output_type": "stream",
     "text": [
      "Proporção dos dados D1: 0.5101\n",
      "Proporção dos dados D2: 0.4899\n"
     ]
    }
   ],
   "source": [
    "print(f'Proporção dos dados D1: {d1:.4f}')\n",
    "print(f'Proporção dos dados D2: {d2:.4f}')"
   ]
  },
  {
   "cell_type": "markdown",
   "id": "3de83646",
   "metadata": {},
   "source": [
    "- Dose é uma variável balanceada;\n",
    "- D1 tem poucos casos a mais."
   ]
  },
  {
   "cell_type": "markdown",
   "id": "cf0ea614",
   "metadata": {},
   "source": [
    "#### Droga"
   ]
  },
  {
   "cell_type": "markdown",
   "id": "9435b828",
   "metadata": {},
   "source": [
    "Como existem muitas drogas, a análise será feita apenas com as que possuem mais de 100 ocorrências"
   ]
  },
  {
   "cell_type": "code",
   "execution_count": 42,
   "id": "3010d5fd",
   "metadata": {},
   "outputs": [
    {
     "data": {
      "text/plain": [
       "cacb2b860    1866\n",
       "87d714366     718\n",
       "9f80f3f77     246\n",
       "8b87a7a83     203\n",
       "5628cb3ee     202\n",
       "             ... \n",
       "bc21046fe       1\n",
       "b36078dd2       1\n",
       "3276db5ea       1\n",
       "8d320a8c7       1\n",
       "b9ffc9444       1\n",
       "Name: droga, Length: 3289, dtype: int64"
      ]
     },
     "execution_count": 42,
     "metadata": {},
     "output_type": "execute_result"
    }
   ],
   "source": [
    "# Contando o número de categorias em droga\n",
    "cat_var['droga'].value_counts()"
   ]
  },
  {
   "cell_type": "markdown",
   "id": "7219a909",
   "metadata": {},
   "source": [
    "Existem muitos tipos de drogas no conjunto de dados. Para uma melhor análise, serão selecionadas apenas as mais frequêntes."
   ]
  },
  {
   "cell_type": "code",
   "execution_count": 43,
   "id": "817a9d9a",
   "metadata": {},
   "outputs": [
    {
     "data": {
      "text/plain": [
       "Text(0.5, 0, 'Droga')"
      ]
     },
     "execution_count": 43,
     "metadata": {},
     "output_type": "execute_result"
    },
    {
     "data": {
      "image/png": "[encoded data removed]",
      "text/plain": [
       "<Figure size 1800x864 with 1 Axes>"
      ]
     },
     "metadata": {},
     "output_type": "display_data"
    }
   ],
   "source": [
    "# Plot frequência droga\n",
    "aux_1 = cat_var['droga'].value_counts().reset_index()\n",
    "sns.barplot(x='index', y='droga', data=aux_1[0:9])\n",
    "\n",
    "# Titulo\n",
    "plt.title('Frequência por Droga')\n",
    "\n",
    "# Labels\n",
    "plt.ylabel('Frequência')\n",
    "plt.xlabel('Droga')"
   ]
  },
  {
   "cell_type": "code",
   "execution_count": 44,
   "id": "e914bca0",
   "metadata": {},
   "outputs": [
    {
     "data": {
      "text/plain": [
       "array(['cacb2b860'], dtype=object)"
      ]
     },
     "execution_count": 44,
     "metadata": {},
     "output_type": "execute_result"
    }
   ],
   "source": [
    "cat_var[df_exp['tratamento'] == 'com_controle']['droga'].unique()"
   ]
  },
  {
   "cell_type": "code",
   "execution_count": 45,
   "id": "a1fd78e3",
   "metadata": {},
   "outputs": [
    {
     "data": {
      "text/plain": [
       "6.0"
      ]
     },
     "execution_count": 45,
     "metadata": {},
     "output_type": "execute_result"
    }
   ],
   "source": [
    "cat_var['droga'].value_counts().median()"
   ]
  },
  {
   "cell_type": "markdown",
   "id": "0dd55f49",
   "metadata": {},
   "source": [
    "- A variável tratamento possui 3289 possíveis entradas\n",
    "- O valor mediano de frequência é 6 (não foi usado média pois os dados possuem muitos outliers)\n",
    "- A droga com maior frequência é o controle(que é a ausência de droga)\n",
    "- Apenas 10, das 3289 drogas, têm frequência superior a 100"
   ]
  },
  {
   "cell_type": "markdown",
   "id": "2e90390d",
   "metadata": {},
   "source": [
    "## 3.2. Análise Bivariada"
   ]
  },
  {
   "cell_type": "markdown",
   "id": "d0cde5c2",
   "metadata": {},
   "source": [
    "### H1. Maior média dos valores de viabilidade celular implica em mais ativações - FALSO"
   ]
  },
  {
   "cell_type": "markdown",
   "id": "801a333d",
   "metadata": {},
   "source": [
    "- Pouca coisa se pode concluir com a média de viabilidade celular. No entanto, existe uma tendência das médias assumirem valores negativos.\n",
    "- 7 Ativações é um evento raro. Apesar de apresentar um resultado interessante, não é possível assumir nada.\n",
    "- **2 Ativações merece atenção. Possui uma quantidade razoável de dados e apresenta uma média do valor de viabilidade celular consideravelmente baixa**"
   ]
  },
  {
   "cell_type": "code",
   "execution_count": 46,
   "id": "4951f2c5",
   "metadata": {},
   "outputs": [],
   "source": [
    "aux_1 = df_3[['n_moa', 'mean_c']].groupby('n_moa').mean().reset_index()"
   ]
  },
  {
   "cell_type": "code",
   "execution_count": 47,
   "id": "6a8a3934",
   "metadata": {},
   "outputs": [
    {
     "data": {
      "text/plain": [
       "Text(0.5, 0, 'Frequêcia de Ativações')"
      ]
     },
     "execution_count": 47,
     "metadata": {},
     "output_type": "execute_result"
    },
    {
     "data": {
      "image/png": "[encoded data removed]",
      "text/plain": [
       "<Figure size 1800x864 with 1 Axes>"
      ]
     },
     "metadata": {},
     "output_type": "display_data"
    }
   ],
   "source": [
    "# plot boxplot\n",
    "sns.boxplot(x='n_moa', y='mean_c', data=df_3)\n",
    "\n",
    "# título\n",
    "plt.title('Boxplot da média da Viabilidade celular por Quantidade de Ativações')\n",
    "\n",
    "#labels\n",
    "plt.ylabel('Média do valor de Viabilidade Celular')\n",
    "plt.xlabel('Frequêcia de Ativações')"
   ]
  },
  {
   "cell_type": "markdown",
   "id": "da1066ee",
   "metadata": {},
   "source": [
    "### H2. Uma maior quantidade de expressões genéticas implica em mais ativações - FALSO\n",
    "- Pouca coisa se pode concluir com o valor médio das expressões genéticas."
   ]
  },
  {
   "cell_type": "code",
   "execution_count": 48,
   "id": "befc8f5b",
   "metadata": {},
   "outputs": [
    {
     "data": {
      "text/plain": [
       "Text(0.5, 0, 'Frequência das Ativações')"
      ]
     },
     "execution_count": 48,
     "metadata": {},
     "output_type": "execute_result"
    },
    {
     "data": {
      "image/png": "[encoded data removed]",
      "text/plain": [
       "<Figure size 1800x864 with 1 Axes>"
      ]
     },
     "metadata": {},
     "output_type": "display_data"
    }
   ],
   "source": [
    "# plot boxplot da média dos valores de expressão genética por frequência de ativações\n",
    "sns.boxplot(x='n_moa', y='mean_g', data=df_3)\n",
    "\n",
    "# titulo\n",
    "plt.title('Boxplot da Média da Expressão Genética por Frequência de ativações')\n",
    "\n",
    "# lables\n",
    "plt.ylabel('Média da Expressão Genética')\n",
    "plt.xlabel('Frequência das Ativações')"
   ]
  },
  {
   "cell_type": "markdown",
   "id": "2a291913",
   "metadata": {},
   "source": [
    "### H3. Tratamentos com controle não possuem ativações - VERDADEIRO"
   ]
  },
  {
   "cell_type": "markdown",
   "id": "40af3874",
   "metadata": {},
   "source": [
    "- Como o esperado, as culturas que utilizaram controle não tiveram ativações."
   ]
  },
  {
   "cell_type": "code",
   "execution_count": 49,
   "id": "1afdb04a",
   "metadata": {},
   "outputs": [
    {
     "data": {
      "text/html": [
       "<div>\n",
       "<style scoped>\n",
       "    .dataframe tbody tr th:only-of-type {\n",
       "        vertical-align: middle;\n",
       "    }\n",
       "\n",
       "    .dataframe tbody tr th {\n",
       "        vertical-align: top;\n",
       "    }\n",
       "\n",
       "    .dataframe thead th {\n",
       "        text-align: right;\n",
       "    }\n",
       "</style>\n",
       "<table border=\"1\" class=\"dataframe\">\n",
       "  <thead>\n",
       "    <tr style=\"text-align: right;\">\n",
       "      <th></th>\n",
       "      <th>tratamento</th>\n",
       "      <th>ativo_moa</th>\n",
       "    </tr>\n",
       "  </thead>\n",
       "  <tbody>\n",
       "    <tr>\n",
       "      <th>0</th>\n",
       "      <td>com_controle</td>\n",
       "      <td>0</td>\n",
       "    </tr>\n",
       "    <tr>\n",
       "      <th>1</th>\n",
       "      <td>com_droga</td>\n",
       "      <td>14447</td>\n",
       "    </tr>\n",
       "  </tbody>\n",
       "</table>\n",
       "</div>"
      ],
      "text/plain": [
       "     tratamento  ativo_moa\n",
       "0  com_controle          0\n",
       "1     com_droga      14447"
      ]
     },
     "execution_count": 49,
     "metadata": {},
     "output_type": "execute_result"
    }
   ],
   "source": [
    "# Número de ativações por tratamento\n",
    "aux_1 = df_3[['ativo_moa', 'tratamento']].groupby('tratamento').sum().reset_index()\n",
    "aux_1"
   ]
  },
  {
   "cell_type": "markdown",
   "id": "56c01ca9",
   "metadata": {},
   "source": [
    "### H4. D2 ativa mais que D1 - FALSO"
   ]
  },
  {
   "cell_type": "markdown",
   "id": "b7397ede",
   "metadata": {},
   "source": [
    "- D1 ativa mais que D2, porém a proporção é praticamente identica."
   ]
  },
  {
   "cell_type": "code",
   "execution_count": 50,
   "id": "84dfa3e0",
   "metadata": {},
   "outputs": [],
   "source": [
    "# df auxiliar\n",
    "aux_1 = df_3[['dose', 'ativo_moa']].groupby('dose').sum().reset_index()"
   ]
  },
  {
   "cell_type": "code",
   "execution_count": 51,
   "id": "c9401894",
   "metadata": {},
   "outputs": [
    {
     "data": {
      "text/plain": [
       "Text(0.5, 0, 'Quantidade de Ativações')"
      ]
     },
     "execution_count": 51,
     "metadata": {},
     "output_type": "execute_result"
    },
    {
     "data": {
      "image/png": "[encoded data removed]",
      "text/plain": [
       "<Figure size 1800x864 with 1 Axes>"
      ]
     },
     "metadata": {},
     "output_type": "display_data"
    }
   ],
   "source": [
    "# plot tipo de dose por existência de ativação\n",
    "sns.barplot(y='dose', x='ativo_moa', data=aux_1, orient='h')\n",
    "\n",
    "# título\n",
    "plt.title('Ativação por Tipo de Dose')\n",
    "\n",
    "# label\n",
    "plt.ylabel('Tipo de dose')\n",
    "plt.xlabel('Quantidade de Ativações')"
   ]
  },
  {
   "cell_type": "markdown",
   "id": "928a0611",
   "metadata": {},
   "source": [
    "### H5. Um maior período de efeito da droga implica em mais ativações - FALSO"
   ]
  },
  {
   "cell_type": "markdown",
   "id": "1bfd03f7",
   "metadata": {},
   "source": [
    "- O período de efeito das drogas têm pouca correlação com o número de ativações"
   ]
  },
  {
   "cell_type": "code",
   "execution_count": 52,
   "id": "5095d9a7",
   "metadata": {},
   "outputs": [],
   "source": [
    "# auxiliar\n",
    "aux_1 = df_3[['tempo', 'ativo_moa']].groupby('tempo').sum().reset_index()"
   ]
  },
  {
   "cell_type": "code",
   "execution_count": 53,
   "id": "3ce787c8",
   "metadata": {},
   "outputs": [
    {
     "data": {
      "text/plain": [
       "Text(0.5, 1.0, 'Correlação Entre Ativações e Tempo')"
      ]
     },
     "execution_count": 53,
     "metadata": {},
     "output_type": "execute_result"
    },
    {
     "data": {
      "image/png": "[encoded data removed]",
      "text/plain": [
       "<Figure size 1800x864 with 3 Axes>"
      ]
     },
     "metadata": {},
     "output_type": "display_data"
    }
   ],
   "source": [
    "# plot barplot\n",
    "plt.subplot(1, 2, 1)\n",
    "sns.barplot(x='tempo', y='ativo_moa', data=aux_1)\n",
    "\n",
    "plt.title('Número de Ativações Total por Tempo de Efeito do Medicamento') # titulo barplot\n",
    "plt.ylabel('Quantidade de Ativações') # ylabel barplot\n",
    "plt.xlabel('Tempo de Efeito do Medicamento') # xlabel barplot\n",
    "\n",
    "# plot heatmap\n",
    "plt.subplot(1, 2, 2)\n",
    "sns.heatmap(aux_1.corr(method='pearson'), annot=True)\n",
    "\n",
    "plt.title('Correlação Entre Ativações e Tempo') # título heatmap"
   ]
  },
  {
   "cell_type": "markdown",
   "id": "5efd104d",
   "metadata": {},
   "source": [
    "## 3.3. Análise Multivariada"
   ]
  },
  {
   "cell_type": "markdown",
   "id": "aed72c05",
   "metadata": {},
   "source": [
    "### Variáveis Categóricas"
   ]
  },
  {
   "cell_type": "markdown",
   "id": "2be305cc",
   "metadata": {},
   "source": [
    "As variáveis categóricas possuem baixa correlação entre si.\n",
    "\n",
    "A variável resposta e o tratamento possuem uma correlação de 0.36. Essa baixa correlação ocorre pois boa parte das drogas não ativam. No entando, como já foi analisado, apenas drogas levam a ativação."
   ]
  },
  {
   "cell_type": "code",
   "execution_count": 54,
   "id": "139bf12c",
   "metadata": {},
   "outputs": [],
   "source": [
    "# Separação das variáveis categóricas\n",
    "cat_attributes = df_3.loc[:, ['tratamento', 'tempo', 'dose', 'ativo_moa']].astype('str')"
   ]
  },
  {
   "cell_type": "code",
   "execution_count": 55,
   "id": "18712190",
   "metadata": {},
   "outputs": [
    {
     "data": {
      "text/plain": [
       "<AxesSubplot:>"
      ]
     },
     "execution_count": 55,
     "metadata": {},
     "output_type": "execute_result"
    },
    {
     "data": {
      "image/png": "[encoded data removed]",
      "text/plain": [
       "<Figure size 1800x864 with 2 Axes>"
      ]
     },
     "metadata": {},
     "output_type": "display_data"
    }
   ],
   "source": [
    "cat = {}\n",
    "\n",
    "for value in cat_attributes.columns:\n",
    "    cols = []\n",
    "    for value_ in cat_attributes.columns:\n",
    "        cols.append(cramer_v(cat_attributes[value], cat_attributes[value_]))\n",
    "        \n",
    "    cat[value] = cols\n",
    "    \n",
    "d = pd.DataFrame(cat)\n",
    "\n",
    "d = d.set_index(d.columns)\n",
    "\n",
    "# Plot\n",
    "sns.heatmap(d, cmap=sns.diverging_palette(230, 20, as_cmap=True), linewidths=.5, annot=True,\n",
    "            square=True, cbar_kws={'shrink': .5})"
   ]
  },
  {
   "cell_type": "markdown",
   "id": "ed26745a",
   "metadata": {},
   "source": [
    "### Tipos Celulares x Tipos Celulares"
   ]
  },
  {
   "cell_type": "markdown",
   "id": "8650f79b",
   "metadata": {},
   "source": [
    "Alguns genes se correlacionam mais do que outros.\n",
    "\n",
    "Isso pode ser um sinal de que determinados genes podem, em conjunto, ativar mais do que outras combinações."
   ]
  },
  {
   "cell_type": "code",
   "execution_count": 56,
   "id": "caed7921",
   "metadata": {},
   "outputs": [],
   "source": [
    "# Criando a tabela de correlação entre as expressões genéticas\n",
    "corr_tc = df_3.loc[:, 'g-75': 'g-100'].corr()"
   ]
  },
  {
   "cell_type": "code",
   "execution_count": 57,
   "id": "01fc285c",
   "metadata": {},
   "outputs": [
    {
     "data": {
      "text/plain": [
       "<AxesSubplot:>"
      ]
     },
     "execution_count": 57,
     "metadata": {},
     "output_type": "execute_result"
    },
    {
     "data": {
      "image/png": "[encoded data removed]",
      "text/plain": [
       "<Figure size 792x648 with 2 Axes>"
      ]
     },
     "metadata": {},
     "output_type": "display_data"
    }
   ],
   "source": [
    "# gerando a máscara\n",
    "mask = np.triu(np.ones_like(corr_tc, dtype=bool))\n",
    "\n",
    "# Criando a figura no matplotlib\n",
    "f, ax = plt.subplots(figsize=(11, 9))\n",
    "\n",
    "# Criando a colormap\n",
    "cmap = sns.diverging_palette(230, 20, as_cmap=True)\n",
    "\n",
    "# Criando o heatmap\n",
    "sns.heatmap(corr_tc, mask=mask, cmap=cmap, center=0, square=True, linewidths=.5, cbar_kws={\"shrink\": .5})"
   ]
  },
  {
   "cell_type": "markdown",
   "id": "4b4b0c7a",
   "metadata": {},
   "source": [
    "## Viabilidade Celular x Viabilidade Celular"
   ]
  },
  {
   "cell_type": "markdown",
   "id": "7f56df3b",
   "metadata": {},
   "source": [
    "Os valores de Viabilidade Celular são altamente correlacionados."
   ]
  },
  {
   "cell_type": "code",
   "execution_count": 58,
   "id": "5a8f35c7",
   "metadata": {},
   "outputs": [],
   "source": [
    "# Criando a tabela de correlação entre as viabilidades celulares\n",
    "corr_vc = df_3.loc[:, 'c-70': 'c-95'].corr()"
   ]
  },
  {
   "cell_type": "code",
   "execution_count": 59,
   "id": "3eaa8380",
   "metadata": {},
   "outputs": [
    {
     "data": {
      "text/plain": [
       "<AxesSubplot:>"
      ]
     },
     "execution_count": 59,
     "metadata": {},
     "output_type": "execute_result"
    },
    {
     "data": {
      "image/png": "[encoded data removed]",
      "text/plain": [
       "<Figure size 792x648 with 2 Axes>"
      ]
     },
     "metadata": {},
     "output_type": "display_data"
    }
   ],
   "source": [
    "# gerando a máscara\n",
    "mask = np.triu(np.ones_like(corr_vc, dtype=bool))\n",
    "\n",
    "# Criando a figura no matplotlib\n",
    "f, ax = plt.subplots(figsize=(11, 9))\n",
    "\n",
    "# Criando a colormap\n",
    "cmap = sns.diverging_palette(230, 20, as_cmap=True)\n",
    "\n",
    "# Criando o heatmap\n",
    "sns.heatmap(corr_vc, mask=mask, cmap=cmap, center=0, square=True, linewidths=.5, cbar_kws={\"shrink\": .5})"
   ]
  },
  {
   "cell_type": "markdown",
   "id": "32f194ff",
   "metadata": {},
   "source": [
    "## Viabilidade Celular x Expressões Genéticas"
   ]
  },
  {
   "cell_type": "markdown",
   "id": "11543cb1",
   "metadata": {},
   "source": [
    "É possível perceber um padrão de correlação entre a Viabilidade Celular e as Expressões Genéticas.\n",
    "\n",
    "Cada Expressão Genética correlaciona de forma única com todos os tipos de Viabilidade Genética."
   ]
  },
  {
   "cell_type": "code",
   "execution_count": 60,
   "id": "da2afdac",
   "metadata": {},
   "outputs": [],
   "source": [
    "# Criando a tabela de correlação entre as viabilidades celulares\n",
    "corr_vc_vb = df_3.loc[:, 'g-743': 'c-25'].corr()\n",
    "\n",
    "corr_vc_vb = corr_vc_vb.loc['g-743':'g-771', 'c-0':'c-25']"
   ]
  },
  {
   "cell_type": "code",
   "execution_count": 61,
   "id": "28780687",
   "metadata": {},
   "outputs": [
    {
     "data": {
      "text/plain": [
       "Text(0.5, 57.5, 'Viabilidade Genética')"
      ]
     },
     "execution_count": 61,
     "metadata": {},
     "output_type": "execute_result"
    },
    {
     "data": {
      "image/png": "[encoded data removed]",
      "text/plain": [
       "<Figure size 792x648 with 2 Axes>"
      ]
     },
     "metadata": {},
     "output_type": "display_data"
    }
   ],
   "source": [
    "# Criando a figura no matplotlib\n",
    "f, ax = plt.subplots(figsize=(11, 9))\n",
    "\n",
    "# Criando a colormap\n",
    "cmap = sns.diverging_palette(230, 20, as_cmap=True)\n",
    "\n",
    "# Criando o heatmap\n",
    "sns.heatmap(corr_vc_vb, cmap=cmap, center=0, square=True, linewidths=.5, cbar_kws={\"shrink\": .5})\n",
    "\n",
    "# labels\n",
    "plt.ylabel('Expressão Genética')\n",
    "plt.xlabel('Viabilidade Genética')"
   ]
  },
  {
   "cell_type": "markdown",
   "id": "269f73fe",
   "metadata": {},
   "source": [
    "# 4.0. Preparação dos Dados"
   ]
  },
  {
   "cell_type": "markdown",
   "id": "b7f48400",
   "metadata": {},
   "source": [
    "É na preparação dos dados que as variáveis são condicionadas para que possam performar bem no modelo de Machine Learning. As seguintes etapas são essenciais:\n",
    "- **Separação dos Dados**: Os dados precisam ser separados entre treino e teste. Os dados de treino são os responsáveis por modelar o problema. Os dados de teste serão usados apenas para fazer as previsões. É importante que os dados de teste não entrem em contato com os de treino para que a análise fique enviesada;\n",
    "- **Encoding**: Na etapa do Scalling devemos transformar as variáveis categóricas em numéricas. Alguns modelos de Machine Learning são compatíveis com dados categóricos.\n",
    "- **Normalização**: Os dados numéricos devem estar normalizados para que não tenhamos problemas de escala durante os treinamentos. Os dados em questão já estão normalizados."
   ]
  },
  {
   "cell_type": "code",
   "execution_count": 62,
   "id": "979f4681",
   "metadata": {},
   "outputs": [],
   "source": [
    "df_4 = df_3.copy()"
   ]
  },
  {
   "cell_type": "markdown",
   "id": "84fa7da0",
   "metadata": {},
   "source": [
    "## 4.1. Separação dos Dados"
   ]
  },
  {
   "cell_type": "code",
   "execution_count": 63,
   "id": "4814ad71",
   "metadata": {},
   "outputs": [],
   "source": [
    "# Separação dos dados em X(variáveis independentes) e Y(variável depentente)\n",
    "X_full = df_4.drop(['id', 'n_moa', 'droga', 'ativo_moa'], axis=1)\n",
    "y_full = df_4.loc[:, ['ativo_moa']]"
   ]
  },
  {
   "cell_type": "code",
   "execution_count": 65,
   "id": "bdbec5ae",
   "metadata": {},
   "outputs": [],
   "source": [
    "# Split do dataset em treino e teste\n",
    "X_train, X_test, y_train, y_test = train_test_split(X_full, y_full, test_size=0.25, random_state=32, stratify=y_full)"
   ]
  },
  {
   "cell_type": "markdown",
   "id": "b2eb26c9",
   "metadata": {},
   "source": [
    "## 4.2.1 Encoding "
   ]
  },
  {
   "cell_type": "code",
   "execution_count": 66,
   "id": "445469a2",
   "metadata": {},
   "outputs": [],
   "source": [
    "# tratamento -> One Hot Encoding\n",
    "X_train = pd.get_dummies(X_train, prefix='tratamento', columns=['tratamento'], drop_first=True)\n",
    "X_test = pd.get_dummies(X_test, prefix='tratamento', columns=['tratamento'], drop_first=True)\n",
    "X_full = pd.get_dummies(X_full, prefix='tratamento', columns=['tratamento'], drop_first=True)\n",
    "\n",
    "# tempo -> dummy encoding\n",
    "tempo_dict = {24: 1, 48: 2, 72: 3}\n",
    "X_train['tempo'] = X_train['tempo'].map(tempo_dict)\n",
    "X_test['tempo'] = X_test['tempo'].map(tempo_dict)\n",
    "X_full['tempo'] = X_full['tempo'].map(tempo_dict)\n",
    "\n",
    "# dose -> dummy Econding\n",
    "X_train = pd.get_dummies(X_train, prefix='dose', columns=['dose'], drop_first=True)\n",
    "X_test = pd.get_dummies(X_test, prefix='dose', columns=['dose'], drop_first=True)\n",
    "X_full = pd.get_dummies(X_full, prefix='dose', columns=['dose'], drop_first=True)"
   ]
  },
  {
   "cell_type": "markdown",
   "id": "dc2d375c",
   "metadata": {},
   "source": [
    "# 5.0. Feature Selection"
   ]
  },
  {
   "cell_type": "markdown",
   "id": "ac77fea2",
   "metadata": {},
   "source": [
    "**A explicação mais simples é sempre preferível do que a mais complexa**. Esse é o princípio da **Navalha de Occam**. Entende-se de Occam que modelos complexos são passíveis de erros. Portanto, sempre devemos buscar a solução mais simples para um problema.\n",
    "\n",
    "No contexto de Machine Learning, constantemente nos deparamos com variáveis que pouco dizem sobre o problema. É importante que o profissional de dados tenha a consciência de quais informações ele deverá usar. \"Cortar pela raíz\" os dados que não trazem informação é essencial.\n",
    "\n",
    "As técnicas de **Feature Selection** seguem esse princípio. Como essa é uma etapa que demanda tempo e processamento, na análise desse projeto será feita um corte simples de variáveis. Será usado o modelo de **Random Forest** para encontrar as variáveis mais importantes para o problema.\n",
    "\n",
    "Pelo baixo tempo de análise, valores que estiverem abaixo do terceiro quartil serão descartados. No entanto, as técnicas de Feature Selection são muito mais complexas do que isso. Elas demandam tempo de análise e um elevado processamento."
   ]
  },
  {
   "cell_type": "code",
   "execution_count": 67,
   "id": "78acf0cf",
   "metadata": {},
   "outputs": [],
   "source": [
    "X_train_nn = X_train.values\n",
    "y_train_nn = y_train.values.ravel()"
   ]
  },
  {
   "cell_type": "code",
   "execution_count": 68,
   "id": "9c38a600",
   "metadata": {},
   "outputs": [],
   "source": [
    "# Treinando o modelo de RandomForestClassifier\n",
    "rf_model = en.RandomForestClassifier(n_jobs = -1)\n",
    "rf_model.fit(X_train_nn, y_train_nn)\n",
    "\n",
    "# Criação de uma Series com os valores de importância\n",
    "feat_importances = pd.Series(rf_model.feature_importances_, index=X_train.columns)"
   ]
  },
  {
   "cell_type": "code",
   "execution_count": 69,
   "id": "68f1e8e7",
   "metadata": {},
   "outputs": [],
   "source": [
    "# Por ser uma variável correlacionada com a variável resposta, essa feature distorce a visualização do boxplot.\n",
    "feat_analise = feat_importances.drop(['tratamento_com_droga'], axis=0)"
   ]
  },
  {
   "cell_type": "code",
   "execution_count": 70,
   "id": "a0fa1827",
   "metadata": {},
   "outputs": [
    {
     "data": {
      "text/plain": [
       "<AxesSubplot:>"
      ]
     },
     "execution_count": 70,
     "metadata": {},
     "output_type": "execute_result"
    },
    {
     "data": {
      "image/png": "[encoded data removed]",
      "text/plain": [
       "<Figure size 1800x864 with 1 Axes>"
      ]
     },
     "metadata": {},
     "output_type": "display_data"
    }
   ],
   "source": [
    "sns.boxplot(x = feat_analise)"
   ]
  },
  {
   "cell_type": "code",
   "execution_count": 71,
   "id": "70c92d09",
   "metadata": {},
   "outputs": [],
   "source": [
    "# Selecionando apenas as features que estão acima do primeiro quartil\n",
    "select_features = feat_importances[feat_importances > feat_importances.quantile([0.25,0.5,0.75]).values[2]]\n",
    "\n",
    "# Lista final com as features que serão usadas para a modelagem\n",
    "features_final = select_features.index.to_list()\n",
    "\n",
    "X_train = X_train.loc[:, features_final]\n",
    "X_test = X_test.loc[:, features_final]\n",
    "\n",
    "X_full = X_full.loc[:, features_final]"
   ]
  },
  {
   "cell_type": "markdown",
   "id": "45dca7c0",
   "metadata": {},
   "source": [
    "# 6.0. Modelos de Machine Learning"
   ]
  },
  {
   "cell_type": "markdown",
   "id": "34ef8f38",
   "metadata": {},
   "source": [
    "É na modelagem que a mágica acontece. Aqui iremos \"alimentar\" os nossos modelos com os dados de treino. Dessa maneira, eles deverão encontrar padrões entre as variáveis independentes para que possam prever a variável resposta.\n",
    "\n",
    "A estratégia desse projeto é utilizar alguns algorítmos de classificação:\n",
    "- **LogisticRegression**\n",
    "- **KNN**\n",
    "- **GaussianNB**\n",
    "- **LGBMClassifier**\n",
    "- **RandomForestClassifier**\n",
    "- **CatBoostClassifier**\n",
    "\n",
    "Será utilizada a técnica de **Validação Cruzada**. O modelo cortará os dados em 5 Folds. Cada Fold será utilizado uma vez como variável resposta, e os demais como variáveis independentes. No final, a média desses resultados será a métrica utilizada para avaliar o modelo.\n",
    "\n",
    "5 Métricas de avaliação de modelos de classificação foram escolhidas:\n",
    "- **Accuracy**\n",
    "- **Precision**\n",
    "- **Recall**\n",
    "- **F1 Score**\n",
    "- **ROC/AUC**\n",
    "\n",
    "Todas serão utilizadas para a escolha o melhor modelo. Entretanto, a **Accuracy** será a métrica principal do projeto."
   ]
  },
  {
   "cell_type": "code",
   "execution_count": 72,
   "id": "b01b6efb",
   "metadata": {},
   "outputs": [],
   "source": [
    "# separando os dados em folds:\n",
    "kfold = StratifiedKFold(n_splits=5)"
   ]
  },
  {
   "cell_type": "markdown",
   "id": "2644b748",
   "metadata": {},
   "source": [
    "## 6.1. LogisticRegression"
   ]
  },
  {
   "cell_type": "code",
   "execution_count": 73,
   "id": "70fa9f2f",
   "metadata": {},
   "outputs": [],
   "source": [
    "# criando o modelo:\n",
    "modelo = LogisticRegression(max_iter=1000, random_state=25)\n",
    "\n",
    "# Obtendo os resultados do cross_validation\n",
    "resultado_lr = cross_validate(modelo, X_train, y_train.values.ravel(), cv = kfold, scoring=['precision', 'accuracy', 'recall', 'f1', 'roc_auc'])"
   ]
  },
  {
   "cell_type": "code",
   "execution_count": 74,
   "id": "2557f648",
   "metadata": {},
   "outputs": [
    {
     "data": {
      "text/html": [
       "<div>\n",
       "<style scoped>\n",
       "    .dataframe tbody tr th:only-of-type {\n",
       "        vertical-align: middle;\n",
       "    }\n",
       "\n",
       "    .dataframe tbody tr th {\n",
       "        vertical-align: top;\n",
       "    }\n",
       "\n",
       "    .dataframe thead th {\n",
       "        text-align: right;\n",
       "    }\n",
       "</style>\n",
       "<table border=\"1\" class=\"dataframe\">\n",
       "  <thead>\n",
       "    <tr style=\"text-align: right;\">\n",
       "      <th></th>\n",
       "      <th>model</th>\n",
       "      <th>accuracy</th>\n",
       "      <th>precision</th>\n",
       "      <th>recall</th>\n",
       "      <th>f1 score</th>\n",
       "      <th>roc_auc</th>\n",
       "    </tr>\n",
       "  </thead>\n",
       "  <tbody>\n",
       "    <tr>\n",
       "      <th>0</th>\n",
       "      <td>Logistic Regression</td>\n",
       "      <td>0.684155</td>\n",
       "      <td>0.674769</td>\n",
       "      <td>0.925427</td>\n",
       "      <td>0.780465</td>\n",
       "      <td>0.698612</td>\n",
       "    </tr>\n",
       "  </tbody>\n",
       "</table>\n",
       "</div>"
      ],
      "text/plain": [
       "                 model  accuracy  precision    recall  f1 score   roc_auc\n",
       "0  Logistic Regression  0.684155   0.674769  0.925427  0.780465  0.698612"
      ]
     },
     "execution_count": 74,
     "metadata": {},
     "output_type": "execute_result"
    }
   ],
   "source": [
    "# Tabela de resultados\n",
    "df_resultado_lr = pd.DataFrame({'model': 'Logistic Regression',\n",
    "                                'accuracy': resultado_lr['test_accuracy'].mean(),\n",
    "                                'precision': resultado_lr['test_precision'].mean(),\n",
    "                                'recall': resultado_lr['test_recall'].mean(),\n",
    "                                'f1 score': resultado_lr['test_f1'].mean(),\n",
    "                                'roc_auc': resultado_lr['test_roc_auc'].mean()}, index=[0])\n",
    "\n",
    "df_resultado_lr"
   ]
  },
  {
   "cell_type": "markdown",
   "id": "c2e70a48",
   "metadata": {},
   "source": [
    "## 6.2. KNN"
   ]
  },
  {
   "cell_type": "code",
   "execution_count": 75,
   "id": "ef08b9a1",
   "metadata": {},
   "outputs": [],
   "source": [
    "# criando o modelo:\n",
    "modelo = KNeighborsClassifier(n_neighbors = 5)\n",
    "\n",
    "# Obtendo os resultados do cross_validation\n",
    "resultado_knn = cross_validate(modelo, X_train, y_train.values.ravel(), cv = kfold, scoring=['precision', 'accuracy', 'recall', 'f1', 'roc_auc'])"
   ]
  },
  {
   "cell_type": "code",
   "execution_count": 76,
   "id": "fc3d3b86",
   "metadata": {},
   "outputs": [
    {
     "data": {
      "text/html": [
       "<div>\n",
       "<style scoped>\n",
       "    .dataframe tbody tr th:only-of-type {\n",
       "        vertical-align: middle;\n",
       "    }\n",
       "\n",
       "    .dataframe tbody tr th {\n",
       "        vertical-align: top;\n",
       "    }\n",
       "\n",
       "    .dataframe thead th {\n",
       "        text-align: right;\n",
       "    }\n",
       "</style>\n",
       "<table border=\"1\" class=\"dataframe\">\n",
       "  <thead>\n",
       "    <tr style=\"text-align: right;\">\n",
       "      <th></th>\n",
       "      <th>model</th>\n",
       "      <th>accuracy</th>\n",
       "      <th>precision</th>\n",
       "      <th>recall</th>\n",
       "      <th>f1 score</th>\n",
       "      <th>roc_auc</th>\n",
       "    </tr>\n",
       "  </thead>\n",
       "  <tbody>\n",
       "    <tr>\n",
       "      <th>0</th>\n",
       "      <td>KNN</td>\n",
       "      <td>0.616013</td>\n",
       "      <td>0.66144</td>\n",
       "      <td>0.752653</td>\n",
       "      <td>0.704038</td>\n",
       "      <td>0.634678</td>\n",
       "    </tr>\n",
       "  </tbody>\n",
       "</table>\n",
       "</div>"
      ],
      "text/plain": [
       "  model  accuracy  precision    recall  f1 score   roc_auc\n",
       "0   KNN  0.616013    0.66144  0.752653  0.704038  0.634678"
      ]
     },
     "execution_count": 76,
     "metadata": {},
     "output_type": "execute_result"
    }
   ],
   "source": [
    "# Tabela de resultados\n",
    "df_resultado_knn = pd.DataFrame({'model': 'KNN',\n",
    "                                'accuracy': resultado_knn['test_accuracy'].mean(),\n",
    "                                'precision': resultado_knn['test_precision'].mean(),\n",
    "                                'recall': resultado_knn['test_recall'].mean(),\n",
    "                                'f1 score': resultado_knn['test_f1'].mean(),\n",
    "                                'roc_auc': resultado_knn['test_roc_auc'].mean()}, index=[0])\n",
    "\n",
    "df_resultado_knn"
   ]
  },
  {
   "cell_type": "markdown",
   "id": "81038c32",
   "metadata": {},
   "source": [
    "## 6.3. GaussianNB"
   ]
  },
  {
   "cell_type": "code",
   "execution_count": 77,
   "id": "2dedca5e",
   "metadata": {},
   "outputs": [],
   "source": [
    "# criando o modelo:\n",
    "modelo = nb.GaussianNB()\n",
    "\n",
    "# Obtendo os resultados do cross_validation\n",
    "resultado_nb = cross_validate(modelo, X_train, y_train.values.ravel(), cv = kfold, scoring=['precision', 'accuracy', 'recall', 'f1', 'roc_auc'])"
   ]
  },
  {
   "cell_type": "code",
   "execution_count": 78,
   "id": "b4bec5bb",
   "metadata": {},
   "outputs": [
    {
     "data": {
      "text/html": [
       "<div>\n",
       "<style scoped>\n",
       "    .dataframe tbody tr th:only-of-type {\n",
       "        vertical-align: middle;\n",
       "    }\n",
       "\n",
       "    .dataframe tbody tr th {\n",
       "        vertical-align: top;\n",
       "    }\n",
       "\n",
       "    .dataframe thead th {\n",
       "        text-align: right;\n",
       "    }\n",
       "</style>\n",
       "<table border=\"1\" class=\"dataframe\">\n",
       "  <thead>\n",
       "    <tr style=\"text-align: right;\">\n",
       "      <th></th>\n",
       "      <th>model</th>\n",
       "      <th>accuracy</th>\n",
       "      <th>precision</th>\n",
       "      <th>recall</th>\n",
       "      <th>f1 score</th>\n",
       "      <th>roc_auc</th>\n",
       "    </tr>\n",
       "  </thead>\n",
       "  <tbody>\n",
       "    <tr>\n",
       "      <th>0</th>\n",
       "      <td>GaussianNB</td>\n",
       "      <td>0.481971</td>\n",
       "      <td>0.788806</td>\n",
       "      <td>0.199631</td>\n",
       "      <td>0.318394</td>\n",
       "      <td>0.656595</td>\n",
       "    </tr>\n",
       "  </tbody>\n",
       "</table>\n",
       "</div>"
      ],
      "text/plain": [
       "        model  accuracy  precision    recall  f1 score   roc_auc\n",
       "0  GaussianNB  0.481971   0.788806  0.199631  0.318394  0.656595"
      ]
     },
     "execution_count": 78,
     "metadata": {},
     "output_type": "execute_result"
    }
   ],
   "source": [
    "# Tabela de resultados\n",
    "df_resultado_nb = pd.DataFrame({'model': 'GaussianNB',\n",
    "                                'accuracy': resultado_nb['test_accuracy'].mean(),\n",
    "                                'precision': resultado_nb['test_precision'].mean(),\n",
    "                                'recall': resultado_nb['test_recall'].mean(),\n",
    "                                'f1 score': resultado_nb['test_f1'].mean(),\n",
    "                                'roc_auc': resultado_nb['test_roc_auc'].mean()}, index=[0])\n",
    "\n",
    "df_resultado_nb"
   ]
  },
  {
   "cell_type": "markdown",
   "id": "5bf6de90",
   "metadata": {},
   "source": [
    "## 6.4. LGBMClassifier"
   ]
  },
  {
   "cell_type": "code",
   "execution_count": 79,
   "id": "ce5a835b",
   "metadata": {},
   "outputs": [],
   "source": [
    "# criando o modelo:\n",
    "modelo = LGBMClassifier(n_jobs=-1, random_state=25)\n",
    "\n",
    "# Obtendo os resultados do cross_validation\n",
    "resultado_lgbm = cross_validate(modelo, X_train, y_train.values.ravel(), cv = kfold, scoring=['precision', 'accuracy', 'recall', 'f1', 'roc_auc'])"
   ]
  },
  {
   "cell_type": "code",
   "execution_count": 80,
   "id": "48171c72",
   "metadata": {},
   "outputs": [
    {
     "data": {
      "text/html": [
       "<div>\n",
       "<style scoped>\n",
       "    .dataframe tbody tr th:only-of-type {\n",
       "        vertical-align: middle;\n",
       "    }\n",
       "\n",
       "    .dataframe tbody tr th {\n",
       "        vertical-align: top;\n",
       "    }\n",
       "\n",
       "    .dataframe thead th {\n",
       "        text-align: right;\n",
       "    }\n",
       "</style>\n",
       "<table border=\"1\" class=\"dataframe\">\n",
       "  <thead>\n",
       "    <tr style=\"text-align: right;\">\n",
       "      <th></th>\n",
       "      <th>model</th>\n",
       "      <th>accuracy</th>\n",
       "      <th>precision</th>\n",
       "      <th>recall</th>\n",
       "      <th>f1 score</th>\n",
       "      <th>roc_auc</th>\n",
       "    </tr>\n",
       "  </thead>\n",
       "  <tbody>\n",
       "    <tr>\n",
       "      <th>0</th>\n",
       "      <td>LGBMClassifier</td>\n",
       "      <td>0.689082</td>\n",
       "      <td>0.676021</td>\n",
       "      <td>0.936133</td>\n",
       "      <td>0.785092</td>\n",
       "      <td>0.711517</td>\n",
       "    </tr>\n",
       "  </tbody>\n",
       "</table>\n",
       "</div>"
      ],
      "text/plain": [
       "            model  accuracy  precision    recall  f1 score   roc_auc\n",
       "0  LGBMClassifier  0.689082   0.676021  0.936133  0.785092  0.711517"
      ]
     },
     "execution_count": 80,
     "metadata": {},
     "output_type": "execute_result"
    }
   ],
   "source": [
    "# Tabela de resultados\n",
    "df_resultado_lgbm = pd.DataFrame({'model': 'LGBMClassifier',\n",
    "                                'accuracy': resultado_lgbm['test_accuracy'].mean(),\n",
    "                                'precision': resultado_lgbm['test_precision'].mean(),\n",
    "                                'recall': resultado_lgbm['test_recall'].mean(),\n",
    "                                'f1 score': resultado_lgbm['test_f1'].mean(),\n",
    "                                'roc_auc': resultado_lgbm['test_roc_auc'].mean()}, index=[0])\n",
    "\n",
    "df_resultado_lgbm"
   ]
  },
  {
   "cell_type": "markdown",
   "id": "da1dfbf2",
   "metadata": {},
   "source": [
    "## 6.5. RandomForestClassifier"
   ]
  },
  {
   "cell_type": "code",
   "execution_count": 81,
   "id": "d9fa835b",
   "metadata": {},
   "outputs": [],
   "source": [
    "# criando o modelo:\n",
    "modelo = en.RandomForestClassifier(n_jobs=-1)\n",
    "\n",
    "# Obtendo os resultados do cross_validation\n",
    "resultado_rfc = cross_validate(modelo, X_train, y_train.values.ravel(), cv = kfold, scoring=['precision', 'accuracy', 'recall', 'f1', 'roc_auc'])"
   ]
  },
  {
   "cell_type": "code",
   "execution_count": 82,
   "id": "f452a210",
   "metadata": {},
   "outputs": [
    {
     "data": {
      "text/html": [
       "<div>\n",
       "<style scoped>\n",
       "    .dataframe tbody tr th:only-of-type {\n",
       "        vertical-align: middle;\n",
       "    }\n",
       "\n",
       "    .dataframe tbody tr th {\n",
       "        vertical-align: top;\n",
       "    }\n",
       "\n",
       "    .dataframe thead th {\n",
       "        text-align: right;\n",
       "    }\n",
       "</style>\n",
       "<table border=\"1\" class=\"dataframe\">\n",
       "  <thead>\n",
       "    <tr style=\"text-align: right;\">\n",
       "      <th></th>\n",
       "      <th>model</th>\n",
       "      <th>accuracy</th>\n",
       "      <th>precision</th>\n",
       "      <th>recall</th>\n",
       "      <th>f1 score</th>\n",
       "      <th>roc_auc</th>\n",
       "    </tr>\n",
       "  </thead>\n",
       "  <tbody>\n",
       "    <tr>\n",
       "      <th>0</th>\n",
       "      <td>RandomForestClassifier</td>\n",
       "      <td>0.684155</td>\n",
       "      <td>0.669189</td>\n",
       "      <td>0.948039</td>\n",
       "      <td>0.784567</td>\n",
       "      <td>0.692727</td>\n",
       "    </tr>\n",
       "  </tbody>\n",
       "</table>\n",
       "</div>"
      ],
      "text/plain": [
       "                    model  accuracy  precision    recall  f1 score   roc_auc\n",
       "0  RandomForestClassifier  0.684155   0.669189  0.948039  0.784567  0.692727"
      ]
     },
     "execution_count": 82,
     "metadata": {},
     "output_type": "execute_result"
    }
   ],
   "source": [
    "# Tabela de resultados\n",
    "df_resultado_rfc = pd.DataFrame({'model': 'RandomForestClassifier',\n",
    "                                'accuracy': resultado_rfc['test_accuracy'].mean(),\n",
    "                                'precision': resultado_rfc['test_precision'].mean(),\n",
    "                                'recall': resultado_rfc['test_recall'].mean(),\n",
    "                                'f1 score': resultado_rfc['test_f1'].mean(),\n",
    "                                'roc_auc': resultado_rfc['test_roc_auc'].mean()}, index=[0])\n",
    "\n",
    "df_resultado_rfc"
   ]
  },
  {
   "cell_type": "markdown",
   "id": "0213b30f",
   "metadata": {},
   "source": [
    "## 6.6. CatBoostClassifier"
   ]
  },
  {
   "cell_type": "code",
   "execution_count": 83,
   "id": "d2f2c83e",
   "metadata": {},
   "outputs": [],
   "source": [
    "# criando o modelo:\n",
    "modelo = cb.CatBoostClassifier(verbose=0)\n",
    "\n",
    "# Obtendo os resultados do cross_validation\n",
    "resultado_cbc = cross_validate(modelo, X_train, y_train.values.ravel(), cv = kfold, scoring=['precision', 'accuracy', 'recall', 'f1', 'roc_auc'])"
   ]
  },
  {
   "cell_type": "code",
   "execution_count": 84,
   "id": "f2e3f109",
   "metadata": {},
   "outputs": [
    {
     "data": {
      "text/html": [
       "<div>\n",
       "<style scoped>\n",
       "    .dataframe tbody tr th:only-of-type {\n",
       "        vertical-align: middle;\n",
       "    }\n",
       "\n",
       "    .dataframe tbody tr th {\n",
       "        vertical-align: top;\n",
       "    }\n",
       "\n",
       "    .dataframe thead th {\n",
       "        text-align: right;\n",
       "    }\n",
       "</style>\n",
       "<table border=\"1\" class=\"dataframe\">\n",
       "  <thead>\n",
       "    <tr style=\"text-align: right;\">\n",
       "      <th></th>\n",
       "      <th>model</th>\n",
       "      <th>accuracy</th>\n",
       "      <th>precision</th>\n",
       "      <th>recall</th>\n",
       "      <th>f1 score</th>\n",
       "      <th>roc_auc</th>\n",
       "    </tr>\n",
       "  </thead>\n",
       "  <tbody>\n",
       "    <tr>\n",
       "      <th>0</th>\n",
       "      <td>CatBoostClassifier</td>\n",
       "      <td>0.692609</td>\n",
       "      <td>0.673445</td>\n",
       "      <td>0.95773</td>\n",
       "      <td>0.790811</td>\n",
       "      <td>0.716461</td>\n",
       "    </tr>\n",
       "  </tbody>\n",
       "</table>\n",
       "</div>"
      ],
      "text/plain": [
       "                model  accuracy  precision   recall  f1 score   roc_auc\n",
       "0  CatBoostClassifier  0.692609   0.673445  0.95773  0.790811  0.716461"
      ]
     },
     "execution_count": 84,
     "metadata": {},
     "output_type": "execute_result"
    }
   ],
   "source": [
    "# Tabela de resultados\n",
    "df_resultado_cbc = pd.DataFrame({'model': 'CatBoostClassifier',\n",
    "                                'accuracy': resultado_cbc['test_accuracy'].mean(),\n",
    "                                'precision': resultado_cbc['test_precision'].mean(),\n",
    "                                'recall': resultado_cbc['test_recall'].mean(),\n",
    "                                'f1 score': resultado_cbc['test_f1'].mean(),\n",
    "                                'roc_auc': resultado_cbc['test_roc_auc'].mean()}, index=[0])\n",
    "\n",
    "df_resultado_cbc"
   ]
  },
  {
   "cell_type": "markdown",
   "id": "19aa54d1",
   "metadata": {},
   "source": [
    "## 6.7. Resultados"
   ]
  },
  {
   "cell_type": "code",
   "execution_count": 85,
   "id": "57153e19",
   "metadata": {},
   "outputs": [
    {
     "data": {
      "text/html": [
       "<div>\n",
       "<style scoped>\n",
       "    .dataframe tbody tr th:only-of-type {\n",
       "        vertical-align: middle;\n",
       "    }\n",
       "\n",
       "    .dataframe tbody tr th {\n",
       "        vertical-align: top;\n",
       "    }\n",
       "\n",
       "    .dataframe thead th {\n",
       "        text-align: right;\n",
       "    }\n",
       "</style>\n",
       "<table border=\"1\" class=\"dataframe\">\n",
       "  <thead>\n",
       "    <tr style=\"text-align: right;\">\n",
       "      <th></th>\n",
       "      <th>model</th>\n",
       "      <th>accuracy</th>\n",
       "      <th>precision</th>\n",
       "      <th>recall</th>\n",
       "      <th>f1 score</th>\n",
       "      <th>roc_auc</th>\n",
       "    </tr>\n",
       "  </thead>\n",
       "  <tbody>\n",
       "    <tr>\n",
       "      <th>0</th>\n",
       "      <td>CatBoostClassifier</td>\n",
       "      <td>0.692609</td>\n",
       "      <td>0.673445</td>\n",
       "      <td>0.957730</td>\n",
       "      <td>0.790811</td>\n",
       "      <td>0.716461</td>\n",
       "    </tr>\n",
       "    <tr>\n",
       "      <th>0</th>\n",
       "      <td>LGBMClassifier</td>\n",
       "      <td>0.689082</td>\n",
       "      <td>0.676021</td>\n",
       "      <td>0.936133</td>\n",
       "      <td>0.785092</td>\n",
       "      <td>0.711517</td>\n",
       "    </tr>\n",
       "    <tr>\n",
       "      <th>0</th>\n",
       "      <td>Logistic Regression</td>\n",
       "      <td>0.684155</td>\n",
       "      <td>0.674769</td>\n",
       "      <td>0.925427</td>\n",
       "      <td>0.780465</td>\n",
       "      <td>0.698612</td>\n",
       "    </tr>\n",
       "    <tr>\n",
       "      <th>0</th>\n",
       "      <td>RandomForestClassifier</td>\n",
       "      <td>0.684155</td>\n",
       "      <td>0.669189</td>\n",
       "      <td>0.948039</td>\n",
       "      <td>0.784567</td>\n",
       "      <td>0.692727</td>\n",
       "    </tr>\n",
       "    <tr>\n",
       "      <th>0</th>\n",
       "      <td>KNN</td>\n",
       "      <td>0.616013</td>\n",
       "      <td>0.661440</td>\n",
       "      <td>0.752653</td>\n",
       "      <td>0.704038</td>\n",
       "      <td>0.634678</td>\n",
       "    </tr>\n",
       "    <tr>\n",
       "      <th>0</th>\n",
       "      <td>GaussianNB</td>\n",
       "      <td>0.481971</td>\n",
       "      <td>0.788806</td>\n",
       "      <td>0.199631</td>\n",
       "      <td>0.318394</td>\n",
       "      <td>0.656595</td>\n",
       "    </tr>\n",
       "  </tbody>\n",
       "</table>\n",
       "</div>"
      ],
      "text/plain": [
       "                    model  accuracy  precision    recall  f1 score   roc_auc\n",
       "0      CatBoostClassifier  0.692609   0.673445  0.957730  0.790811  0.716461\n",
       "0          LGBMClassifier  0.689082   0.676021  0.936133  0.785092  0.711517\n",
       "0     Logistic Regression  0.684155   0.674769  0.925427  0.780465  0.698612\n",
       "0  RandomForestClassifier  0.684155   0.669189  0.948039  0.784567  0.692727\n",
       "0                     KNN  0.616013   0.661440  0.752653  0.704038  0.634678\n",
       "0              GaussianNB  0.481971   0.788806  0.199631  0.318394  0.656595"
      ]
     },
     "execution_count": 85,
     "metadata": {},
     "output_type": "execute_result"
    }
   ],
   "source": [
    "# Concatenando os resultados\n",
    "pd.concat([df_resultado_lr,\n",
    "           df_resultado_knn,\n",
    "           df_resultado_nb,\n",
    "           df_resultado_lgbm,\n",
    "           df_resultado_rfc,\n",
    "           df_resultado_cbc], axis=0).sort_values(by='accuracy', ascending=False)"
   ]
  },
  {
   "cell_type": "markdown",
   "id": "95c06677",
   "metadata": {},
   "source": [
    "Para os objetivos da nossa análise e por entender as limitações de processamento e tempo, o modelo **LGBMClassifier** será o escolhido. Apesar do CatBoostClassifier ter obtido uma maior acurácia, ele demanda um processamento alto e não seria viável para o projeto.\n",
    "\n",
    "O **LGBMClassifier** Possui um bom desempenho com esse tipo de dados. A acurácia está razoavelmente próxima do primeiro colodado. Além disso, a etapa de Fine Tunning elevará o desempenho do modelo."
   ]
  },
  {
   "cell_type": "markdown",
   "id": "da278a3e",
   "metadata": {},
   "source": [
    "# 7.0. Fine Tunning"
   ]
  },
  {
   "cell_type": "code",
   "execution_count": 86,
   "id": "2cdf1ca3",
   "metadata": {},
   "outputs": [
    {
     "name": "stdout",
     "output_type": "stream",
     "text": [
      "Fitting 5 folds for each of 50 candidates, totalling 250 fits\n"
     ]
    },
    {
     "data": {
      "text/plain": [
       "RandomizedSearchCV(cv=5, estimator=LGBMClassifier(), n_iter=50,\n",
       "                   param_distributions={'colsample_bytree': array([0.1  , 0.325, 0.55 , 0.775, 1.   ]),\n",
       "                                        'learning_rate': array([0.001     , 0.00807143, 0.01514286, 0.02221429, 0.02928571,\n",
       "       0.03635714, 0.04342857, 0.0505    , 0.05757143, 0.06464286,\n",
       "       0.07171429, 0.07878571, 0.08585714, 0.09292857, 0.1       ]),\n",
       "                                        'min_child_samples': array([  1,  56, 111, 167, 222, 278, 333, 389, 444, 500]),\n",
       "                                        'min_child_weight': [1e-05, 0.001, 0.01,\n",
       "                                                             0.1, 1, 10.0],\n",
       "                                        'num_leaves': array([ 6, 24, 43, 62]),\n",
       "                                        'subsample': array([0.05  , 0.2875, 0.525 , 0.7625, 1.    ])},\n",
       "                   random_state=25, verbose=1)"
      ]
     },
     "execution_count": 86,
     "metadata": {},
     "output_type": "execute_result"
    }
   ],
   "source": [
    "# Definindo valores que serão testados no LGBMClassifier:\n",
    "learning_rate = np.linspace(1e-3, 1e-1, 15)\n",
    "num_leaves = np.linspace(6, 62, 4, dtype='int64')\n",
    "min_child_samples = np.linspace(1, 500, 10, dtype='int64')\n",
    "min_child_weight = [1e-5, 1e-3, 1e-2, 1e-1, 1, 1e1]\n",
    "subsample = np.linspace(0.05, 1.0, 5)\n",
    "colsample_bytree = np.linspace(0.1, 1, 5)\n",
    "\n",
    "valores_grid = {'learning_rate': learning_rate,\n",
    "                'num_leaves': num_leaves,\n",
    "                'min_child_samples': min_child_samples,\n",
    "                'min_child_weight': min_child_weight, \n",
    "                'subsample': subsample, \n",
    "                'colsample_bytree': colsample_bytree}\n",
    "\n",
    "# Criação do modelo:\n",
    "modelo = modelo = LGBMClassifier(n_jobs=-1)\n",
    "\n",
    "# Criandos os grids:\n",
    "gridLGBM = RandomizedSearchCV(estimator = modelo, param_distributions = valores_grid, cv = 5, n_iter=50, random_state=25, verbose=1)\n",
    "gridLGBM.fit(X_train, y_train.values.ravel())"
   ]
  },
  {
   "cell_type": "code",
   "execution_count": 87,
   "id": "bd904997",
   "metadata": {},
   "outputs": [
    {
     "name": "stdout",
     "output_type": "stream",
     "text": [
      "Melhor acurácia:  0.6932810750279955\n"
     ]
    }
   ],
   "source": [
    "print('Melhor acurácia: ', gridLGBM.best_score_)"
   ]
  },
  {
   "cell_type": "code",
   "execution_count": 88,
   "id": "6d800b61",
   "metadata": {},
   "outputs": [
    {
     "data": {
      "text/plain": [
       "LGBMClassifier(colsample_bytree=0.325, learning_rate=0.09292857142857143,\n",
       "               min_child_samples=111, min_child_weight=10.0, num_leaves=6,\n",
       "               subsample=0.7625)"
      ]
     },
     "execution_count": 88,
     "metadata": {},
     "output_type": "execute_result"
    }
   ],
   "source": [
    "gridLGBM.best_estimator_"
   ]
  },
  {
   "cell_type": "markdown",
   "id": "8ad8e811",
   "metadata": {},
   "source": [
    "# 8.0. Modelo Final"
   ]
  },
  {
   "cell_type": "markdown",
   "id": "e29d2f9a",
   "metadata": {},
   "source": [
    "## 8.1. Aplicação do Modelo no Dataset de Treino"
   ]
  },
  {
   "cell_type": "code",
   "execution_count": 89,
   "id": "9955a264",
   "metadata": {},
   "outputs": [
    {
     "data": {
      "text/plain": [
       "LGBMClassifier(learning_rate=0.06464285714285714, min_child_samples=444,\n",
       "               min_child_weight=0.01, num_leaves=6, subsample=0.2875)"
      ]
     },
     "execution_count": 89,
     "metadata": {},
     "output_type": "execute_result"
    }
   ],
   "source": [
    "# Aplicando os melhores valores segundo o Fine Tunning\n",
    "modelo_final = LGBMClassifier(n_jobs=-1, learning_rate=0.06464285714285714, min_child_samples=444,\n",
    "               min_child_weight=0.01, num_leaves=6, subsample=0.2875)\n",
    "\n",
    "modelo_final.fit(X_train, y_train.values.ravel())"
   ]
  },
  {
   "cell_type": "code",
   "execution_count": 90,
   "id": "c5eac28c",
   "metadata": {},
   "outputs": [],
   "source": [
    "# probas\n",
    "final_model_proba = modelo_final.predict_proba(X_test)[:, 1]\n",
    "y_hat = (final_model_proba >= 0.50).astype(int)\n",
    "\n",
    "# metrics\n",
    "ac = met.accuracy_score(y_test, y_hat)\n",
    "pre = met.precision_score(y_test, y_hat)\n",
    "re = met.recall_score(y_test, y_hat)\n",
    "auc = met.roc_auc_score(y_test, final_model_proba)"
   ]
  },
  {
   "cell_type": "code",
   "execution_count": 91,
   "id": "d889ee5b",
   "metadata": {},
   "outputs": [
    {
     "name": "stdout",
     "output_type": "stream",
     "text": [
      "accuracy: 0.6877729257641921\n",
      "precision: 0.6617457095405056\n",
      "recall: 0.9928017718715393\n",
      "roc: 0.697273558202897\n"
     ]
    }
   ],
   "source": [
    "print('accuracy: {}'.format(ac))\n",
    "print('precision: {}'.format(pre))\n",
    "print('recall: {}'.format(re))\n",
    "print('roc: {}'.format(auc))"
   ]
  },
  {
   "cell_type": "markdown",
   "id": "f4774e38",
   "metadata": {},
   "source": [
    "## 8.2. Validação Cruzada Sobre todo o Dataset"
   ]
  },
  {
   "cell_type": "code",
   "execution_count": 92,
   "id": "672b1b6e",
   "metadata": {},
   "outputs": [],
   "source": [
    "# Cálculo da accuracy através da Validação Cruzada\n",
    "test_accuracy_cv = ms.cross_val_score(modelo_final, X_full, y_full.values.ravel(), cv=5, scoring='accuracy')\n",
    "\n",
    "# Cálculo da precision através da Validação Cruzada\n",
    "test_precision_cv = ms.cross_val_score(modelo_final, X_full, y_full.values.ravel(), cv=5, scoring='precision')\n",
    "\n",
    "# Cálculo do recall através da Validação Cruzada\n",
    "test_recall_cv = ms.cross_val_score(modelo_final, X_full, y_full.values.ravel(), cv=5, scoring='recall')\n",
    "\n",
    "# Cálculo da specificity da Validação Cruzada\n",
    "specificity = make_scorer(recall_score, pos_label=0)\n",
    "test_specificity_cv = ms.cross_val_score(modelo_final, X_full, y_full.values.ravel(), cv=5, scoring=specificity)\n",
    "\n",
    "# Cálculo da média e desvio padrão da accuracy\n",
    "mean_acc, std_acc = np.mean(test_accuracy_cv), np.std(test_accuracy_cv)\n",
    "acc_c = '{:.4f}'.format(mean_acc) + ' +/- ' + '{:.4f}'.format(std_acc)\n",
    "\n",
    "# Cálculo da média e desvio padrão da precision\n",
    "mean_pre, std_pre = np.mean(test_precision_cv), np.std(test_precision_cv)\n",
    "pre_c = '{:.4f}'.format(mean_pre) + ' +/- ' + '{:.4f}'.format(std_pre)\n",
    "\n",
    "# Cálculo da média e desvio padrão do recall\n",
    "mean_re, std_re = np.mean(test_recall_cv), np.std(test_recall_cv)\n",
    "re_c = '{:.4f}'.format(mean_re) + ' +/- ' + '{:.4f}'.format(std_re)\n",
    "\n",
    "# Cálculo da média e desvio padrão da ROC-AUC\n",
    "mean_spe, std_spe = np.mean(test_specificity_cv), np.std(test_specificity_cv)\n",
    "spe_c = '{:.4f}'.format(mean_spe) + ' +/- ' + '{:.4f}'.format(std_spe)"
   ]
  },
  {
   "cell_type": "code",
   "execution_count": 93,
   "id": "4a93f84e",
   "metadata": {},
   "outputs": [],
   "source": [
    "classificador = pd.DataFrame({'Modelo': 'LGBMClassifier', 'Accuracy': acc_c,\n",
    "              'Precision': pre_c,\n",
    "              'Recall': re_c,\n",
    "              'Specificity': spe_c}, index=['0'])"
   ]
  },
  {
   "cell_type": "markdown",
   "id": "ee80944d",
   "metadata": {},
   "source": [
    "# 9.0. Considerações Finais"
   ]
  },
  {
   "cell_type": "markdown",
   "id": "7706c5fa",
   "metadata": {},
   "source": [
    "## 9.1. Modelo Base"
   ]
  },
  {
   "cell_type": "code",
   "execution_count": 94,
   "id": "9875a1a3",
   "metadata": {},
   "outputs": [],
   "source": [
    "# baseline aleatório\n",
    "list_ac = []\n",
    "list_pre = []\n",
    "list_re = []\n",
    "list_spe = []\n",
    "\n",
    "for cont in range(0, 20):\n",
    "    list_y = []\n",
    "    for value in range(0, 5954):\n",
    "        list_y.append(random.randint(0, 1))\n",
    "\n",
    "    list_ac.append(met.accuracy_score(y_test, list_y))\n",
    "    list_pre.append(met.precision_score(y_test, list_y))\n",
    "    list_re.append(met.recall_score(y_test, list_y))\n",
    "    list_spe.append(ime.specificity_score(y_test, list_y))\n",
    "    \n",
    "baseline_aleatoria = pd.DataFrame({'Modelo': 'Baseline_aleatória', 'Accuracy': np.mean(list_ac),\n",
    "                                   'Precision': np.mean(list_pre), 'Recall': np.mean(list_re), \n",
    "                                   'Specificity': np.mean(list_spe)}, index=[0])"
   ]
  },
  {
   "cell_type": "code",
   "execution_count": 95,
   "id": "8f11dcb4",
   "metadata": {},
   "outputs": [],
   "source": [
    "# baseline todos ativos\n",
    "list_y_1 = [1 for value in range(0, 5954)]\n",
    "\n",
    "ac = met.accuracy_score(y_test, list_y_1)\n",
    "pre = met.precision_score(y_test, list_y_1)\n",
    "re = met.recall_score(y_test, list_y_1)\n",
    "spe = ime.specificity_score(y_test, list_y_1)\n",
    "\n",
    "baseline_todos1 = pd.DataFrame({'Modelo': 'Baseline_todos1', 'Accuracy': ac,\n",
    "                                   'Precision': pre, 'Recall': re, \n",
    "                                   'Specificity': spe}, index=[0])"
   ]
  },
  {
   "cell_type": "code",
   "execution_count": 96,
   "id": "7a1ed0da",
   "metadata": {},
   "outputs": [
    {
     "data": {
      "text/html": [
       "<div>\n",
       "<style scoped>\n",
       "    .dataframe tbody tr th:only-of-type {\n",
       "        vertical-align: middle;\n",
       "    }\n",
       "\n",
       "    .dataframe tbody tr th {\n",
       "        vertical-align: top;\n",
       "    }\n",
       "\n",
       "    .dataframe thead th {\n",
       "        text-align: right;\n",
       "    }\n",
       "</style>\n",
       "<table border=\"1\" class=\"dataframe\">\n",
       "  <thead>\n",
       "    <tr style=\"text-align: right;\">\n",
       "      <th></th>\n",
       "      <th>Modelo</th>\n",
       "      <th>Accuracy</th>\n",
       "      <th>Precision</th>\n",
       "      <th>Recall</th>\n",
       "      <th>Specificity</th>\n",
       "    </tr>\n",
       "  </thead>\n",
       "  <tbody>\n",
       "    <tr>\n",
       "      <th>0</th>\n",
       "      <td>LGBMClassifier</td>\n",
       "      <td>0.6913 +/- 0.0038</td>\n",
       "      <td>0.6639 +/- 0.0026</td>\n",
       "      <td>0.9949 +/- 0.0014</td>\n",
       "      <td>0.2230 +/- 0.0087</td>\n",
       "    </tr>\n",
       "    <tr>\n",
       "      <th>0</th>\n",
       "      <td>Baseline_aleatória</td>\n",
       "      <td>0.500294</td>\n",
       "      <td>0.606814</td>\n",
       "      <td>0.500734</td>\n",
       "      <td>0.499616</td>\n",
       "    </tr>\n",
       "    <tr>\n",
       "      <th>0</th>\n",
       "      <td>Baseline_todos1</td>\n",
       "      <td>0.606651</td>\n",
       "      <td>0.606651</td>\n",
       "      <td>1.0</td>\n",
       "      <td>0.0</td>\n",
       "    </tr>\n",
       "  </tbody>\n",
       "</table>\n",
       "</div>"
      ],
      "text/plain": [
       "               Modelo           Accuracy          Precision  \\\n",
       "0      LGBMClassifier  0.6913 +/- 0.0038  0.6639 +/- 0.0026   \n",
       "0  Baseline_aleatória           0.500294           0.606814   \n",
       "0     Baseline_todos1           0.606651           0.606651   \n",
       "\n",
       "              Recall        Specificity  \n",
       "0  0.9949 +/- 0.0014  0.2230 +/- 0.0087  \n",
       "0           0.500734           0.499616  \n",
       "0                1.0                0.0  "
      ]
     },
     "execution_count": 96,
     "metadata": {},
     "output_type": "execute_result"
    }
   ],
   "source": [
    "pd.concat([classificador, baseline_aleatoria, baseline_todos1], axis=0)"
   ]
  },
  {
   "cell_type": "markdown",
   "id": "e32d4fbc",
   "metadata": {},
   "source": [
    "## 9.2. Conclusões:"
   ]
  },
  {
   "cell_type": "markdown",
   "id": "c4d7d216",
   "metadata": {},
   "source": [
    "O nosso modelo LGBMClassifier aumentou o nosso poder de previsão em relação as ativações. Algumas métricas são interessants de serem comparadas:\n",
    "- **Accuracy**: A quantidade de acertos em relação ao total de classificações aumentou consideralvelmente. Seguindo o LGBMClassifier, o modelo teve 69% de acurácia, contra apenas 50%(aproximadamente) do modelo aleatório. Já a baseline que chuta todos os valores como 1 acertou todos os valores 1 (60%);\n",
    "\n",
    "- **Precision**: Daqueles que o modelo previu como positivo, quantos realmente são positivos? Essa é a taxa de Verdadeiros Positivos. O modelo também teve vantagem em relação aos baselines(66.35% contra 60%);\n",
    "\n",
    "- **Recall**: Daqueles que são positivos por natureza, quantos o modelo previu como positivo? 99.5% dos valores que são realmente ativados, o modelo conseguiu prever. Em relação a baseline aleatória isso é um grande avanço, pois aumentou de 49.75% para 99.45%. A baseline_todos1 acertou 100% das variáveis ativadas pois chutou que todas seriam ativadas.\n",
    "\n",
    "- **Specificity**: Quão bom o modelo é bom em classificar a classe negativa? É através dessa métrica que é possível visualizar o avanço em relação a baseline que atribui todos valores como positivos. O LGBMClassifier conseguiu manter um recall bem próximo de 100%, e conseguiu acertar 22.18% dos casos negativos. A baseline que chuta os valores como 1 consegue um recall de 100%, mas erra todos os valores negativos."
   ]
  }
 ],
 "metadata": {
  "kernelspec": {
   "display_name": "Python 3",
   "language": "python",
   "name": "python3"
  },
  "language_info": {
   "codemirror_mode": {
    "name": "ipython",
    "version": 3
   },
   "file_extension": ".py",
   "mimetype": "text/x-python",
   "name": "python",
   "nbconvert_exporter": "python",
   "pygments_lexer": "ipython3",
   "version": "3.8.0"
  }
 },
 "nbformat": 4,
 "nbformat_minor": 5
}
